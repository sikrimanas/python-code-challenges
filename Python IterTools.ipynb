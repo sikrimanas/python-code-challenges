{
 "cells": [
  {
   "cell_type": "markdown",
   "metadata": {},
   "source": [
    "###### Write a Python program to create an iterator from several iterables in a sequence and display the type and elements of the new iterator"
   ]
  },
  {
   "cell_type": "code",
   "execution_count": null,
   "metadata": {},
   "outputs": [],
   "source": [
    "from itertools import chain\n",
    "def chain_func(l1,l2,l3):\n",
    "    return chain(l1,l2,l3)    \n",
    "#List\n",
    "result = chain_func([1,2,3], ['a','b','c','d'], [4,5,6,7,8,9])\n",
    "print(\"Type of the new iterator:\")\n",
    "print(type(result))\n",
    "print(\"Elements of the new iterator:\")\n",
    "for i in result:\n",
    "    print(i)\n",
    "\n",
    "#Tuple\n",
    "result = chain_func((10,20,30,40), ('A','B','C','D'), (40,50,60,70,80,90))\n",
    "print(\"Type of the new iterator:\")\n",
    "print(type(result))\n",
    "print(\"Elements of the new iterator:\")\n",
    "for i in result:\n",
    "    print(i)"
   ]
  },
  {
   "cell_type": "markdown",
   "metadata": {},
   "source": [
    "###### Write a Python program to generate the running product of the elements of an given iterable."
   ]
  },
  {
   "cell_type": "code",
   "execution_count": null,
   "metadata": {},
   "outputs": [],
   "source": [
    "from itertools import accumulate\n",
    "\n",
    "import operator\n",
    "\n",
    "def running_product(it):\n",
    "    return accumulate(it, operator.mul)\n",
    "\n",
    "# list\n",
    "result = running_product([1,2,3,4,5,6,7])\n",
    "print(\"Result of a List\")\n",
    "for i in result:\n",
    "    print(i)\n",
    "    \n",
    "# Tuple\n",
    "result2 = running_product((1,2,3,4,5,6,7))\n",
    "print(\"Result of a Tuple\")\n",
    "for i in result2:\n",
    "    print(i)"
   ]
  },
  {
   "cell_type": "markdown",
   "metadata": {},
   "source": [
    "###### Write a Python program to generate the running maximum, minimum value of the elements of an iterable"
   ]
  },
  {
   "cell_type": "code",
   "execution_count": null,
   "metadata": {},
   "outputs": [],
   "source": [
    "from itertools import accumulate\n",
    "\n",
    "def running_max(iters):\n",
    "    return (accumulate(iters,max))\n",
    "\n",
    "def running_min(iters):\n",
    "    return (accumulate(iters,min))\n",
    "\n",
    "result = running_max([1,3,2,7,9,8,10,11,12,14,11,12,7])\n",
    "print(\"Running maximum value of a list:\")\n",
    "for i in result:\n",
    "    print(i)"
   ]
  },
  {
   "cell_type": "markdown",
   "metadata": {},
   "source": [
    "###### Write a Python program to construct an infinite iterator that returns evenly spaced values starting with a specified number and step"
   ]
  },
  {
   "cell_type": "code",
   "execution_count": null,
   "metadata": {},
   "outputs": [],
   "source": [
    "import itertools as it\n",
    "start = 10\n",
    "step = 1\n",
    "\n",
    "print(\"The start number is\", start, \"and step is\", step)\n",
    "my_counter = it.count(start,step)\n",
    "\n",
    "print(\"The said function print never-ending items:\")\n",
    "for i in my_counter:    \n",
    "    print(i)"
   ]
  },
  {
   "cell_type": "markdown",
   "metadata": {},
   "source": [
    "###### Write a Python program to generate an infinite cycle of elements from an iterable"
   ]
  },
  {
   "cell_type": "code",
   "execution_count": null,
   "metadata": {},
   "outputs": [],
   "source": [
    "import itertools as it\n",
    "def cycle_data(iter):\n",
    "    return it.cycle(iter)\n",
    "\n",
    "# following loop will run for ever\n",
    "result = cycle_data('Python itertools')\n",
    "print(\"The said function print never-ending items:\")\n",
    "for i in result:\n",
    "    print(i)"
   ]
  },
  {
   "cell_type": "markdown",
   "metadata": {},
   "source": [
    "###### Write a Python program to make an iterator that drops elements from the iterable as soon as an element is a positive number"
   ]
  },
  {
   "cell_type": "code",
   "execution_count": null,
   "metadata": {},
   "outputs": [],
   "source": [
    "import itertools as it\n",
    "\n",
    "def drop_while(nums):\n",
    "    return (it.dropwhile(lambda x: x<0, nums))\n",
    "\n",
    "nums = [-1,-2,-3,4,-10,2,0,5,12]\n",
    "print(nums)\n",
    "print(list(drop_while(nums)))"
   ]
  },
  {
   "cell_type": "markdown",
   "metadata": {},
   "source": [
    "###### Write a Python program to create an iterator that returns consecutive keys and groups from an iterable"
   ]
  },
  {
   "cell_type": "code",
   "execution_count": null,
   "metadata": {},
   "outputs": [],
   "source": [
    "import itertools as it\n",
    "\n",
    "str1 = 'AAAAJJJJHHHHNWWWEERRRSSSOOIIU'\n",
    "data_groupby = it.groupby(str1)\n",
    "\n",
    "for key,group in data_groupby:\n",
    "    print(\"Key:\", key, \" Group: \", list(group))\n",
    "    \n",
    "str1 = [1,2,2,3,4,4,5,5,5,6,6,7,7,7,8]\n",
    "data_groupby = it.groupby(str1)\n",
    "for key, group in data_groupby:\n",
    "    print('Key: ', key,'Group: ', list(group))"
   ]
  },
  {
   "cell_type": "markdown",
   "metadata": {},
   "source": [
    "###### Write a Python program to split an iterable and generate iterables specified number of times"
   ]
  },
  {
   "cell_type": "code",
   "execution_count": null,
   "metadata": {},
   "outputs": [],
   "source": [
    "import itertools as it\n",
    "\n",
    "def tee_data(iter,n):\n",
    "    return (it.tee(iter,n))\n",
    "\n",
    "#String\n",
    "result = tee_data(\"Python itertools\", 4)\n",
    "print(\"\\nGenerate iterables specified number of times:\")\n",
    "for i in result:\n",
    "    print(list(i))"
   ]
  },
  {
   "cell_type": "markdown",
   "metadata": {},
   "source": [
    "###### Write a Python program to create an iterator to get specified number of permutations of elements"
   ]
  },
  {
   "cell_type": "code",
   "execution_count": null,
   "metadata": {},
   "outputs": [],
   "source": [
    "import itertools as it\n",
    "\n",
    "def permutations_data(iter, length):\n",
    "    return (it.permutations(iter, length))\n",
    "\n",
    "#String\n",
    "result = permutations_data(\"Python\", 2)\n",
    "print(\"\\nIterator to get specified number of permutations of elements:\")\n",
    "for i in result:\n",
    "    print(i)"
   ]
  },
  {
   "cell_type": "markdown",
   "metadata": {},
   "source": [
    "###### Write a Python program to generate combinations of a given length of given iterable"
   ]
  },
  {
   "cell_type": "code",
   "execution_count": null,
   "metadata": {},
   "outputs": [],
   "source": [
    "import itertools as it\n",
    "\n",
    "def combinations_data(iter, num):\n",
    "    return (it.combinations(iter,num))\n",
    "\n",
    "#String\n",
    "result = combinations_data(\"Python\", 2)\n",
    "print(\"\\nCombinations of an given iterable of length 2:\")\n",
    "for i in result:\n",
    "    print(i)"
   ]
  },
  {
   "cell_type": "markdown",
   "metadata": {},
   "source": [
    "###### Write a Python program to create Cartesian product of two or more given lists using itertools"
   ]
  },
  {
   "cell_type": "code",
   "execution_count": null,
   "metadata": {},
   "outputs": [],
   "source": [
    "import itertools as it\n",
    "\n",
    "def cartesian_product(lists):\n",
    "    return list(it.product(*lists))\n",
    "\n",
    "ls = [[1,2],[3,4]]\n",
    "print(\"Original Lists:\",ls)\n",
    "print(\"Cartesian product of the said lists: \",cartesian_product(ls))\n",
    "\n",
    "ls = [[],[1,2,3]]\n",
    "print(\"\\nOriginal Lists:\",ls)\n",
    "print(\"Cartesian product of the said lists: \",cartesian_product(ls))\n",
    "\n",
    "ls = [[1,2],[]]\n",
    "print(\"\\nOriginal Lists:\",ls)\n",
    "print(\"Cartesian product of the said lists: \",cartesian_product(ls))"
   ]
  },
  {
   "cell_type": "markdown",
   "metadata": {},
   "source": [
    "###### Write a Python program to chose specified number of colours from three different colours and generate all the combinations with repetitions"
   ]
  },
  {
   "cell_type": "code",
   "execution_count": null,
   "metadata": {},
   "outputs": [],
   "source": [
    "from itertools import combinations_with_replacement\n",
    "\n",
    "def combinations_colors(l,n):\n",
    "    return (combinations_with_replacement(l,n))\n",
    "\n",
    "l = ['Red','Green','Blue']\n",
    "\n",
    "print(list(combinations_colors(l, 1)))\n",
    "print(list(combinations_colors(l, 2)))\n",
    "print(list(combinations_colors(l, 3)))"
   ]
  },
  {
   "cell_type": "markdown",
   "metadata": {},
   "source": [
    "###### Write a Python program generate permutations of specified elements, drawn from specified values"
   ]
  },
  {
   "cell_type": "code",
   "execution_count": null,
   "metadata": {},
   "outputs": [],
   "source": [
    "from itertools import product\n",
    "\n",
    "def permutations_colors(inp, n):\n",
    "    for x in product(inp, repeat = n):\n",
    "        c = ''.join(x)\n",
    "        print(c, end=', ')\n",
    "        \n",
    "str1 = \"Red\"\n",
    "print(\"Original String: \",str1)\n",
    "print(\"Permutations of specified elements, drawn from specified values:\")\n",
    "n=1\n",
    "print(\"\\nn = 1\")\n",
    "permutations_colors(str1,n)\n",
    "n=2\n",
    "print(\"\\nn = 2\")\n",
    "permutations_colors(str1,n)\n",
    "n=3\n",
    "print(\"\\nn = 3\")\n",
    "permutations_colors(str1,n)"
   ]
  },
  {
   "cell_type": "markdown",
   "metadata": {},
   "source": [
    "###### Write a Python program to read a given string character by character and compress repeated character by storing the length of those character(s)"
   ]
  },
  {
   "cell_type": "code",
   "execution_count": null,
   "metadata": {},
   "outputs": [],
   "source": [
    "from itertools import groupby\n",
    "\n",
    "def encode_str(input_str):\n",
    "    return [(len(list(n)), m) for m,n in groupby(input_str)]\n",
    "\n",
    "str1 = \"AAASSSSKKIOOOORRRREEETTTTAAAABBBBBBDDDDD\" \n",
    "print(\"Original string:\")\n",
    "print(str1)\n",
    "print(\"Result:\")\n",
    "print(encode_str(str1))"
   ]
  },
  {
   "cell_type": "markdown",
   "metadata": {},
   "source": [
    "###### Write a Python program to find the factorial of a number using itertools module"
   ]
  },
  {
   "cell_type": "code",
   "execution_count": null,
   "metadata": {},
   "outputs": [],
   "source": [
    "import itertools as it\n",
    "import operator as op\n",
    "\n",
    "def factorials_nums(n):\n",
    "    result = list(it.accumulate(it.chain([1], range(1, 1 + n)), op.mul))\n",
    "    return result;   \n",
    " \n",
    "print(\"Factorials of 5 :\", factorials_nums(5))\n",
    "print(\"Factorials of 9 :\", factorials_nums(9))"
   ]
  }
 ],
 "metadata": {
  "kernelspec": {
   "display_name": "Python 3",
   "language": "python",
   "name": "python3"
  },
  "language_info": {
   "codemirror_mode": {
    "name": "ipython",
    "version": 3
   },
   "file_extension": ".py",
   "mimetype": "text/x-python",
   "name": "python",
   "nbconvert_exporter": "python",
   "pygments_lexer": "ipython3",
   "version": "3.6.1"
  }
 },
 "nbformat": 4,
 "nbformat_minor": 2
}
