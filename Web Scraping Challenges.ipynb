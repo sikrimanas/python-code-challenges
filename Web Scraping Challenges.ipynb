{
 "cells": [
  {
   "cell_type": "markdown",
   "metadata": {},
   "source": [
    "###### Write a Python program to test if a given page is found or not on the server"
   ]
  },
  {
   "cell_type": "code",
   "execution_count": null,
   "metadata": {},
   "outputs": [],
   "source": [
    "from urllib.request import urlopen\n",
    "from urllib.error import HTTPError\n",
    "from urllib.error import URLError\n",
    "\n",
    "try:\n",
    "    html = urlopen(\"https://abcxyz.com\")\n",
    "except HTTPError as e:\n",
    "    print(\"HTTP Error\")\n",
    "except URLError as e:\n",
    "    print(\"Server Not Found\")\n",
    "else:\n",
    "    print(html.read())"
   ]
  },
  {
   "cell_type": "code",
   "execution_count": null,
   "metadata": {},
   "outputs": [],
   "source": [
    "try:\n",
    "    html = urlopen(\"http://www.example.com/\")\n",
    "except HTTPError as e:\n",
    "    print(\"HTTP Error\")\n",
    "except URLError as e:\n",
    "    print(\"Server Not Found\")\n",
    "else:\n",
    "    print(html.read())"
   ]
  },
  {
   "cell_type": "markdown",
   "metadata": {},
   "source": [
    "###### Write a Python program to download and display the content of robot.txt for en.wikipedia.org. "
   ]
  },
  {
   "cell_type": "code",
   "execution_count": null,
   "metadata": {},
   "outputs": [],
   "source": [
    "import requests\n",
    "\n",
    "response = requests.get(\"https://en.wikipedia.org/robots.txt\", verify=False)\n",
    "test = response.text\n",
    "print(\"robots.txt for http://www.wikipedia.org/\")\n",
    "print(\"===================================================\")\n",
    "print(test)"
   ]
  },
  {
   "cell_type": "markdown",
   "metadata": {},
   "source": [
    "###### Write a Python program to get the number of datasets currently listed on data.gov"
   ]
  },
  {
   "cell_type": "code",
   "execution_count": null,
   "metadata": {},
   "outputs": [],
   "source": [
    "from lxml import html\n",
    "import requests\n",
    "\n",
    "response = requests.get(\"http://www.data.gov//\", verify=False)\n",
    "doc_gov = html.fromstring(response.text)\n",
    "link_gov = doc_gov.cssselect('small a')[0]\n",
    "print(\"Number of datasets currently listed on data.gov:\")\n",
    "print(link_gov.text)"
   ]
  },
  {
   "cell_type": "markdown",
   "metadata": {},
   "source": [
    "###### Write a Python program to convert an address (like \"1600 Amphitheatre Parkway, Mountain View, CA\") into geographic coordinates (like latitude 37.423021 and longitude -122.083739),"
   ]
  },
  {
   "cell_type": "code",
   "execution_count": null,
   "metadata": {},
   "outputs": [],
   "source": [
    "import requests\n",
    "geo_url = \"http://maps.googleapis.com/maps/api/geocode/json\"\n",
    "\n",
    "my_address = {\n",
    "    'address': '20 Newport Parkway, Jersey City, New Jersery, 07310',\n",
    "    'language': 'en'\n",
    "}\n",
    "response = requests.get(geo_url, params = my_address)\n",
    "results = response.json()['results']\n",
    "print(results)\n",
    "my_geo = results[0]['geometry']['location']\n",
    "print(\"Longitude:\",my_geo['lng'],\"\\n\",\"Latitude:\",my_geo['lat'])"
   ]
  }
 ],
 "metadata": {
  "kernelspec": {
   "display_name": "Python 3",
   "language": "python",
   "name": "python3"
  },
  "language_info": {
   "codemirror_mode": {
    "name": "ipython",
    "version": 3
   },
   "file_extension": ".py",
   "mimetype": "text/x-python",
   "name": "python",
   "nbconvert_exporter": "python",
   "pygments_lexer": "ipython3",
   "version": "3.6.1"
  }
 },
 "nbformat": 4,
 "nbformat_minor": 2
}
