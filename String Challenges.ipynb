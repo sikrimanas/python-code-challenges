{
 "cells": [
  {
   "cell_type": "markdown",
   "metadata": {},
   "source": [
    "###### Write a Python program to count the number of characters (character frequency) in a string"
   ]
  },
  {
   "cell_type": "code",
   "execution_count": null,
   "metadata": {},
   "outputs": [],
   "source": [
    "from collections import Counter\n",
    "mystr = \"google.com\"\n",
    "\n",
    "myResult = Counter(mystr)\n",
    "print(myResult)"
   ]
  },
  {
   "cell_type": "markdown",
   "metadata": {},
   "source": [
    "###### Write a Python program to get a string from a given string where all occurrences of its first char have been changed to dollar"
   ]
  },
  {
   "cell_type": "code",
   "execution_count": null,
   "metadata": {},
   "outputs": [],
   "source": [
    "str = 'restart'\n",
    "print(str[0] + str.replace(str[0],'$')[1:])"
   ]
  },
  {
   "cell_type": "markdown",
   "metadata": {},
   "source": [
    "###### Write a Python program to get a single string from two given strings, separated by a space and swap the first two characters of each string. Go to the editor\n",
    "Sample String : 'abc', 'xyz'\n",
    "Expected Result : 'xyc abz'"
   ]
  },
  {
   "cell_type": "code",
   "execution_count": null,
   "metadata": {},
   "outputs": [],
   "source": [
    "str1 = 'Manas'\n",
    "str2 = 'Chetna'\n",
    "\n",
    "print(str2[:2]+str1[2:]+\" \"+str1[:2]+str2[2:])"
   ]
  },
  {
   "cell_type": "markdown",
   "metadata": {},
   "source": [
    "###### Write a Python program to find the first appearance of the substring 'not' and 'poor' from a given string, if 'not' follows the 'poor', replace the whole 'not'...'poor' substring with 'good'. Return the resulting string. Go to the editor\n",
    "Sample String : 'The lyrics is not that poor!'\n",
    "'The lyrics is poor!'\n",
    "Expected Result : 'The lyrics is good!'\n",
    "'The lyrics is poor!'"
   ]
  },
  {
   "cell_type": "code",
   "execution_count": null,
   "metadata": {},
   "outputs": [],
   "source": [
    "str1 = 'The lyrics is not that poor!'\n",
    "\n",
    "snot = str1.find('not')\n",
    "spoor = str1.find('poor')\n",
    "print(str1[snot:(spoor+4)])\n",
    "\n",
    "if spoor > snot and spoor > 0 and snot > 0:\n",
    "    str1 = str1.replace(str1[snot:(spoor+4)], 'good')\n",
    "    print(str1)\n",
    "else:\n",
    "    print(str1)"
   ]
  },
  {
   "cell_type": "markdown",
   "metadata": {},
   "source": [
    "###### Write a Python function that takes a list of words and return the longest word and the length of the longest one"
   ]
  },
  {
   "cell_type": "code",
   "execution_count": null,
   "metadata": {},
   "outputs": [],
   "source": [
    "word_list = [\"PHP\", \"Exercises\", \"Backend\"]\n",
    "\n",
    "word_len = []\n",
    "\n",
    "for word in word_list:\n",
    "    word_len.append((len(word), word))\n",
    "\n",
    "word_len.sort()   \n",
    "print(word_len[-1][0], word_len[-1][1])"
   ]
  },
  {
   "cell_type": "markdown",
   "metadata": {},
   "source": [
    "###### Write a Python program to change a given string to a new string where the first and last chars have been exchanged."
   ]
  },
  {
   "cell_type": "code",
   "execution_count": null,
   "metadata": {},
   "outputs": [],
   "source": [
    "def change_string(mystr3):\n",
    "    if len(mystr3) == 1:\n",
    "        return(mystr3)\n",
    "    elif len(mystr3) == 2:\n",
    "        return(mystr3[::-1])\n",
    "    else:\n",
    "        return(mystr3[-1]+mystr3[1:-1]+mystr3[0])\n",
    "    \n",
    "print(change_string(\"abcd\"))\n",
    "print(change_string(\"google\"))\n",
    "print(change_string(\"ab\"))\n",
    "print(change_string(\"a\"))\n",
    "print(change_string(\"abc\"))"
   ]
  },
  {
   "cell_type": "markdown",
   "metadata": {},
   "source": [
    "###### Write a Python program to count the occurrences of each word in a given sentence"
   ]
  },
  {
   "cell_type": "code",
   "execution_count": null,
   "metadata": {},
   "outputs": [],
   "source": [
    "def count_occurences(mystr):\n",
    "    words = mystr.split(' ')\n",
    "    dict = {}\n",
    "    \n",
    "    for word in words:\n",
    "        if word in dict.keys():\n",
    "            dict[word] += 1\n",
    "        else:\n",
    "            dict[word] = 1\n",
    "    \n",
    "    return(dict)\n",
    "\n",
    "print(count_occurences(\"My first name is Manas and my last name is Sikri\"))\n",
    "print(count_occurences(\"World is round and round\"))\n",
    "        "
   ]
  },
  {
   "cell_type": "markdown",
   "metadata": {},
   "source": [
    "###### Write a Python function to create the HTML string with tags around the word(s). Go to the editor\n",
    "Sample function and result :\n",
    "add_tags('i', 'Python') -> '<i>Python</i>'\n",
    "add_tags('b', 'Python Tutorial') -> '<b>Python Tutorial </b>'"
   ]
  },
  {
   "cell_type": "code",
   "execution_count": null,
   "metadata": {},
   "outputs": [],
   "source": [
    "def add_tags(tag, string):\n",
    "    return(\"<\"+tag+\">\"+string+\"</\"+tag+\">\")\n",
    "    \n",
    "print(add_tags('i', 'Python'))\n",
    "print(add_tags('b', 'Python Tutorial'))\n",
    "print(add_tags('b', 'C++'))"
   ]
  },
  {
   "cell_type": "markdown",
   "metadata": {
    "collapsed": true
   },
   "source": [
    "###### Write a Python function to get a string made of 4 copies of the last two characters of a specified string (length must be at least 2). Go to the editor\n",
    "Sample function and result :\n",
    "insert_end('Python') -> onononon\n",
    "insert_end('Exercises') -> eseseses"
   ]
  },
  {
   "cell_type": "code",
   "execution_count": null,
   "metadata": {},
   "outputs": [],
   "source": [
    "def copy_string(mystr):\n",
    "    return(mystr[-2:]*4)\n",
    "\n",
    "print(copy_string('Python'))\n",
    "print(copy_string('Exercises'))\n",
    "print(copy_string('Manas'))\n",
    "print(copy_string('A'))"
   ]
  },
  {
   "cell_type": "markdown",
   "metadata": {},
   "source": [
    "###### Write a Python program to get the last part of a string before a specified character. Go to the editor\n",
    "https://www.w3resource.com/python-exercises\n",
    "https://www.w3resource.com/python"
   ]
  },
  {
   "cell_type": "code",
   "execution_count": null,
   "metadata": {},
   "outputs": [],
   "source": [
    "def before_special(mystring):\n",
    "    return(mystring.rsplit('/',1)[0])\n",
    "\n",
    "print(before_special('https://www.w3resource.com/python-exercises'))\n",
    "print(before_special('https://www.w3resource.com/python'))"
   ]
  },
  {
   "cell_type": "markdown",
   "metadata": {},
   "source": [
    "###### Write a Python program to check whether any word in a given sting contains duplicate characrters or not. Return True or False. Go to the editor\n",
    "Sample Output:\n",
    "Original text:\n",
    "Filter out the factorials of the said list.\n",
    "Check whether any word in the said sting contains duplicate characrters or not!\n",
    "False\n",
    "Original text:\n",
    "Python Exercise.\n",
    "Check whether any word in the said sting contains duplicate characrters or not!\n",
    "False\n",
    "Original text:\n",
    "The wait is over.\n",
    "Check whether any word in the said sting contains duplicate characrters or not!\n",
    "True"
   ]
  },
  {
   "cell_type": "code",
   "execution_count": null,
   "metadata": {},
   "outputs": [],
   "source": [
    "mystr = 'Filter out the factorials of the said list. Check whether any word in the said sting contains duplicate characrters or not!'\n",
    "\n",
    "def duplicate_char(mystr):\n",
    "    words = mystr.split(' ')\n",
    "    alpha_list = []\n",
    "    \n",
    "    for word in words:\n",
    "        for i in word:\n",
    "            if i in alpha_list:\n",
    "                return (False)\n",
    "            else:\n",
    "                alpha_list.append(i)\n",
    "        alpha_list = []\n",
    "    \n",
    "    return (True)\n",
    "\n",
    "print(duplicate_char('Filter out the factorials of the said list.'))\n",
    "print(duplicate_char('Python Exercise'))\n",
    "print(duplicate_char('The wait is over'))\n",
    "print(duplicate_char('My Name'))"
   ]
  },
  {
   "cell_type": "code",
   "execution_count": null,
   "metadata": {
    "collapsed": true
   },
   "outputs": [],
   "source": [
    "###### def duplicate_letters(text):\n",
    "    word_list = text.split()\n",
    "    for word in word_list:\n",
    "        if len(word) > len(set(word)):\n",
    "            return False\n",
    "    return True\n",
    "\n",
    "print(duplicate_char('Filter out the factorials of the said list.'))\n",
    "print(duplicate_char('Python Exercise'))\n",
    "print(duplicate_char('The wait is over'))\n",
    "print(duplicate_char('My Name'))"
   ]
  },
  {
   "cell_type": "markdown",
   "metadata": {},
   "source": [
    "###### Write a Python program to split a given multiline string into a list of lines. Go to the editor\n",
    "Sample Output:\n",
    "Original string: This\n",
    "is a\n",
    "multiline\n",
    "string.\n",
    "Split the said multiline string into a list of lines:\n",
    "['This', 'is a', 'multiline', 'string.', '']"
   ]
  },
  {
   "cell_type": "code",
   "execution_count": null,
   "metadata": {},
   "outputs": [],
   "source": [
    "def split_lines(mystr):\n",
    "    return (mystr.split('\\n'))\n",
    "\n",
    "print(split_lines(\"This\\nis a\\nmultiline\\nstring.\\n\"))"
   ]
  },
  {
   "cell_type": "markdown",
   "metadata": {},
   "source": [
    "###### Write a Python program to decapitalize the first letter of a given string. Go to the editor\n",
    "Sample Output:\n",
    "java Script\n",
    "python"
   ]
  },
  {
   "cell_type": "code",
   "execution_count": null,
   "metadata": {},
   "outputs": [],
   "source": [
    "def decapitalize_first_letter(s):\n",
    "    words = s.split(' ')\n",
    "    words[0] = words[0][:1].lower()+words[0][1:]\n",
    "    \n",
    "    return(' '.join(words))\n",
    "    \n",
    "print(decapitalize_first_letter('Java Script'))\n",
    "print(decapitalize_first_letter('Python'))"
   ]
  },
  {
   "cell_type": "markdown",
   "metadata": {},
   "source": [
    "###### Write a Python program to split a given multiline string into a list of lines."
   ]
  },
  {
   "cell_type": "code",
   "execution_count": null,
   "metadata": {},
   "outputs": [],
   "source": [
    "def split_lines(str):\n",
    "    return (str.split(\"\\n\"))\n",
    "\n",
    "print(\"Original string:\")\n",
    "print(\"This\\nis a\\nmultiline\\nstring.\\n\")\n",
    "print(\"Split the said multiline string into a list of lines:\")\n",
    "print(split_lines('This\\nis a\\nmultiline\\nstring.\\n'))"
   ]
  },
  {
   "cell_type": "markdown",
   "metadata": {},
   "source": [
    "###### Write a Python program to remove duplicate words from a given string."
   ]
  },
  {
   "cell_type": "code",
   "execution_count": null,
   "metadata": {},
   "outputs": [],
   "source": [
    "def remove_duplicate_words(mystr):\n",
    "    words = mystr.split(\" \")\n",
    "    words2 = []\n",
    "    \n",
    "    for word in words:\n",
    "        if word not in words2:\n",
    "            words2.append(word)\n",
    "            \n",
    "    return (\" \".join(words2))\n",
    "\n",
    "print(remove_duplicate_words(\"Python Exercises Practice Solution Exercises\"))"
   ]
  },
  {
   "cell_type": "markdown",
   "metadata": {},
   "source": [
    "###### Write a Python program to remove unwanted characters from a given string"
   ]
  },
  {
   "cell_type": "code",
   "execution_count": null,
   "metadata": {},
   "outputs": [],
   "source": [
    "def remove_unwanted(mystring):\n",
    "    newStr = \"\"\n",
    "    \n",
    "    for i in mystring:\n",
    "        if i.isalpha() or i == \" \":\n",
    "            newStr += i\n",
    "    return (newStr)\n",
    "\n",
    "print(remove_unwanted(\"Pyth*^on Exercis^es\"))"
   ]
  },
  {
   "cell_type": "markdown",
   "metadata": {},
   "source": [
    "###### Write a Python program to count Uppercase, Lowercase, special character and numeric values in a given string"
   ]
  },
  {
   "cell_type": "code",
   "execution_count": null,
   "metadata": {},
   "outputs": [],
   "source": [
    "def count_characters(s):\n",
    "    upperCount, lowerCount, specialCount, numericCount = 0,0,0,0\n",
    "    print(s)\n",
    "    \n",
    "    for i in range(len(s)):\n",
    "        if s[i].isupper():\n",
    "            upperCount += 1\n",
    "        elif s[i].islower():\n",
    "            lowerCount += 1\n",
    "        elif s[i].isdigit():\n",
    "            numericCount += 1\n",
    "        else:\n",
    "            specialCount += 1\n",
    "            \n",
    "    return(upperCount, lowerCount, specialCount, numericCount)\n",
    "    \n",
    "str = \"@W3Resource.Com\"\n",
    "print(\"Original Substrings:\",str)\n",
    "u, l, n, s = count_characters(\"@W3Resource.Com\")\n",
    "print('\\nUpper case characters: ',u)\n",
    "print('Lower case characters: ',l)\n",
    "print('Number case: ',n)\n",
    "print('Special case characters: ',s)"
   ]
  },
  {
   "cell_type": "markdown",
   "metadata": {},
   "source": [
    "###### Write a Python program to find the longest common sub-string from two given strings"
   ]
  },
  {
   "cell_type": "code",
   "execution_count": null,
   "metadata": {},
   "outputs": [],
   "source": [
    "from difflib import SequenceMatcher \n",
    "  \n",
    "def longest_Substring(s1,s2): \n",
    "  \n",
    "     seq_match = SequenceMatcher(None,s1,s2) \n",
    "  \n",
    "     match = seq_match.find_longest_match(0, len(s1), 0, len(s2)) \n",
    "  \n",
    "     # return the longest substring \n",
    "     if (match.size!=0): \n",
    "          return (s1[match.a: match.a + match.size])  \n",
    "     else: \n",
    "          return ('Longest common sub-string not present')  \n",
    "\n",
    "s1 = 'abcdefgh'\n",
    "s2 = 'xswerabcdwd'\n",
    "print(\"Original Substrings:\\n\",s1+\"\\n\",s2)\n",
    "print(\"\\nCommon longest sub_string:\")\n",
    "print(longest_Substring(s1,s2))"
   ]
  },
  {
   "cell_type": "markdown",
   "metadata": {},
   "source": [
    "###### Write a Python program to find maximum length of consecutive 0's in a given binary string"
   ]
  },
  {
   "cell_type": "code",
   "execution_count": null,
   "metadata": {},
   "outputs": [],
   "source": [
    "ss = '111000010000110'\n",
    "\n",
    "length = 0\n",
    "maxlength = 0\n",
    "    \n",
    "for i in range(len(ss)-1):\n",
    "    if ss[i] == '0' and ss[i+1] == '0':\n",
    "        length += 1\n",
    "    else:\n",
    "        if maxlength < length:\n",
    "            maxlength = length\n",
    "        length = 0\n",
    "            \n",
    "print(maxlength+1)"
   ]
  },
  {
   "cell_type": "code",
   "execution_count": null,
   "metadata": {},
   "outputs": [],
   "source": [
    "def max_consecutive_0(input_str): \n",
    "     return  max(map(len,input_str.split('1')))\n",
    "str1 = '111000010000110'\n",
    "print(\"Original string:\" + str1)\n",
    "print(\"Maximum length of consecutive 0’s:\")\n",
    "print(max_consecutive_0(str1))\n",
    "str1 = '111000111'\n",
    "print(\"Original string:\" + str1)\n",
    "print(\"Maximum length of consecutive 0’s:\")\n",
    "print(max_consecutive_0(str1))"
   ]
  },
  {
   "cell_type": "markdown",
   "metadata": {},
   "source": [
    "###### Write a Python program to find all the common characters in lexicographical order from two given lower case strings. If there are no common letters print \"No common characters\""
   ]
  },
  {
   "cell_type": "code",
   "execution_count": null,
   "metadata": {},
   "outputs": [],
   "source": [
    "from collections import Counter\n",
    "\n",
    "def common_chars(str1,str2):\n",
    "    d1 = Counter(str1)\n",
    "    d2 = Counter(str2)\n",
    "    \n",
    "    common_dict = d1 & d2\n",
    "    \n",
    "    if len(common_dict) == 0:\n",
    "        return (\"No common characters found\")\n",
    "    else:\n",
    "        common_chars = list(common_dict.elements())\n",
    "        common_chars = sorted(common_chars)\n",
    "        return(common_chars)\n",
    "    \n",
    "str1 = 'Python'\n",
    "str2 = 'PHP'\n",
    "print(\"Two strings: \"+str1+' : '+str2)\n",
    "print(common_chars(str1, str2))\n",
    "str1 = 'Java'\n",
    "str2 = 'PHP'\n",
    "print(\"Two strings: \"+str1+' : '+str2)\n",
    "print(common_chars(str1, str2))"
   ]
  },
  {
   "cell_type": "markdown",
   "metadata": {},
   "source": [
    "###### Write a Python program to create two strings from a given string. Create the first string using those character which occurs only once and create the second string which consists of multi-time occurring characters in the said string"
   ]
  },
  {
   "cell_type": "code",
   "execution_count": null,
   "metadata": {},
   "outputs": [],
   "source": [
    "from collections import Counter\n",
    "\n",
    "def generate_Strings(inputString):\n",
    "    inputDict = Counter(inputString)\n",
    "    \n",
    "    part1 = [key for key,count in inputDict.items() if count > 1]\n",
    "    part2 = [key for key,count in inputDict.items() if count == 1]\n",
    "    \n",
    "    print(\"\".join(part1))\n",
    "    print(\"\".join(part2))\n",
    "    \n",
    "input = \"aabbcceffgh\"\n",
    "generate_Strings(input)"
   ]
  },
  {
   "cell_type": "markdown",
   "metadata": {},
   "source": [
    "###### Write a Python program to find the second most repeated word in a given string"
   ]
  },
  {
   "cell_type": "code",
   "execution_count": null,
   "metadata": {},
   "outputs": [],
   "source": [
    "def word_count(stringInput):\n",
    "    counts = dict()\n",
    "    words = stringInput.split(\" \")\n",
    "    \n",
    "    for word in words:\n",
    "        if word in counts:\n",
    "            counts[word]+=1\n",
    "        else:\n",
    "            counts[word]=1\n",
    "            \n",
    "    counts_x = sorted(counts.items(), key = lambda kv: kv[1])\n",
    "    return(counts_x[-2])\n",
    "\n",
    "print(word_count(\"Both of these issues are fixed by postponing the evaluation of annotations. Instead of compiling code which executes expressions in annotations at their definition time, the compiler stores the annotation in a string form equivalent to the AST of the expression in question. If needed, annotations can be resolved at runtime using typing.get_type_hints(). In the common case where this is not required, the annotations are cheaper to store (since short strings are interned by the interpreter) and make startup time faster.\"))"
   ]
  },
  {
   "cell_type": "markdown",
   "metadata": {},
   "source": [
    "###### Write a Python program to find the second most repeated word in a given string"
   ]
  },
  {
   "cell_type": "code",
   "execution_count": null,
   "metadata": {},
   "outputs": [],
   "source": [
    "def move_spaces_infront(stringMyInput):\n",
    "    \n",
    "    noSpaces_ch = [ch for ch in stringMyInput if ch != \" \"]\n",
    "    spaces_ch = [ch for ch in stringMyInput if ch == \" \"]\n",
    "    \n",
    "    return('\"'+\"\".join(spaces_ch)+\"\".join(noSpaces_ch)+'\"')\n",
    "    \n",
    "print(move_spaces_infront(\"w3resource .  com  \"))\n",
    "print(move_spaces_infront(\"   w3resource.com  \"))"
   ]
  },
  {
   "cell_type": "markdown",
   "metadata": {},
   "source": [
    "###### Write a Python program to find smallest and largest word in a given string"
   ]
  },
  {
   "cell_type": "code",
   "execution_count": null,
   "metadata": {},
   "outputs": [],
   "source": [
    "def smallest_largest_words(stringInput):\n",
    "    words = stringInput.split(\" \")\n",
    "    smallest = largest = words[0]\n",
    "    \n",
    "    for word in words:\n",
    "        if len(word) < len(smallest):\n",
    "            smallest = word\n",
    "        elif len(word) > len(largest):\n",
    "            largest = word\n",
    "    \n",
    "    print(smallest, largest)\n",
    "str1 = \"Write a Java program to sort an array of given integers using Quick sort Algorithm.\";  \n",
    "smallest_largest_words(str1)  "
   ]
  },
  {
   "cell_type": "markdown",
   "metadata": {},
   "source": [
    "###### Write a Python program to print four values decimal, octal, hexadecimal (capitalized), binary in a single line of a given integer"
   ]
  },
  {
   "cell_type": "code",
   "execution_count": null,
   "metadata": {},
   "outputs": [],
   "source": [
    "i = 25\n",
    "o = oct(i)\n",
    "h = hex(i)\n",
    "b = bin(i)\n",
    "d = bin(i)\n",
    "print(o)\n",
    "print(h)\n",
    "print(b)\n",
    "print(d)"
   ]
  }
 ],
 "metadata": {
  "kernelspec": {
   "display_name": "Python 3",
   "language": "python",
   "name": "python3"
  },
  "language_info": {
   "codemirror_mode": {
    "name": "ipython",
    "version": 3
   },
   "file_extension": ".py",
   "mimetype": "text/x-python",
   "name": "python",
   "nbconvert_exporter": "python",
   "pygments_lexer": "ipython3",
   "version": "3.6.1"
  }
 },
 "nbformat": 4,
 "nbformat_minor": 2
}
