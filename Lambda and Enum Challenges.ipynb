{
 "cells": [
  {
   "cell_type": "markdown",
   "metadata": {},
   "source": [
    "###### Write a Python program to sort a list of tuples using Lambda.\n",
    "Original list of tuples:\n",
    "[('English', 88), ('Science', 90), ('Maths', 97), ('Social sciences', 82)]\n",
    "Sorting the List of Tuples:\n",
    "[('Social sciences', 82), ('English', 88), ('Science', 90), ('Maths', 97)]"
   ]
  },
  {
   "cell_type": "code",
   "execution_count": null,
   "metadata": {},
   "outputs": [],
   "source": [
    "subject_marks = [('English', 88), ('Science', 90), ('Maths', 97), ('Social sciences', 82)]\n",
    "\n",
    "subject_marks.sort(key = lambda x: x[1])\n",
    "print(subject_marks)"
   ]
  },
  {
   "cell_type": "markdown",
   "metadata": {},
   "source": [
    "###### Write a Python program to sort a list of dictionaries using Lambda. Go to the editor\n",
    "Original list of dictionaries :\n",
    "[{'make': 'Nokia', 'model': 216, 'color': 'Black'}, {'make': 'Mi Max', 'model': '2', 'color': 'Gold'}, {'make': 'Samsung', 'model': 7, 'color': 'Blue'}]\n",
    "Sorting the List of dictionaries :\n",
    "[{'make': 'Nokia', 'model': 216, 'color': 'Black'}, {'make': 'Samsung', 'model': 7, 'color': 'Blue'}, {'make': 'Mi Max', 'model': '2', 'color': 'Gold'}]"
   ]
  },
  {
   "cell_type": "code",
   "execution_count": null,
   "metadata": {},
   "outputs": [],
   "source": [
    "mydict_list = [\n",
    "    {'make': 'Nokia', 'model': 216, 'color': 'Black'}, \n",
    "    {'make': 'Mi Max', 'model': '2', 'color': 'Gold'}, \n",
    "    {'make': 'Samsung', 'model': 7, 'color': 'Blue'}\n",
    "]\n",
    "\n",
    "sorted_dictlists = sorted(mydict_list, key = lambda x:x['color'])\n",
    "print(sorted_dictlists)"
   ]
  },
  {
   "cell_type": "markdown",
   "metadata": {},
   "source": [
    "###### Write a Python program to filter a list of integers using Lambda. Go to the editor\n",
    "Original list of integers:\n",
    "[1, 2, 3, 4, 5, 6, 7, 8, 9, 10]\n",
    "Even numbers from the said list:\n",
    "[2, 4, 6, 8, 10]\n",
    "Odd numbers from the said list:\n",
    "[1, 3, 5, 7, 9]"
   ]
  },
  {
   "cell_type": "code",
   "execution_count": null,
   "metadata": {},
   "outputs": [],
   "source": [
    "myList = [1, 2, 3, 4, 5, 6, 7, 8, 9, 10]\n",
    "\n",
    "even_nums = list(filter(lambda x:x%2 == 0, myList))\n",
    "odd_nums =  list(filter(lambda x:x%2 != 0, myList))\n",
    "print(even_nums)\n",
    "print(odd_nums)"
   ]
  },
  {
   "cell_type": "markdown",
   "metadata": {},
   "source": [
    "##### Write a Python program to square and cube every number in a given list of integers using Lambda. Go to the editor\n",
    "Original list of integers:\n",
    "[1, 2, 3, 4, 5, 6, 7, 8, 9, 10]\n",
    "Square every number of the said list:\n",
    "[1, 4, 9, 16, 25, 36, 49, 64, 81, 100]\n",
    "Cube every number of the said list:\n",
    "[1, 8, 27, 64, 125, 216, 343, 512, 729, 1000]"
   ]
  },
  {
   "cell_type": "code",
   "execution_count": null,
   "metadata": {},
   "outputs": [],
   "source": [
    "myOrgList = [1, 2, 3, 4, 5, 6, 7, 8, 9, 10]\n",
    "\n",
    "square_nums = list(map(lambda x: x**2, myOrgList))\n",
    "cube_nums = list(map(lambda x: x**3, myOrgList))\n",
    "\n",
    "print(square_nums)\n",
    "print(cube_nums)"
   ]
  },
  {
   "cell_type": "markdown",
   "metadata": {},
   "source": [
    "###### Write a Python program to find if a given string starts with a given character using Lambda. Go to the editor\n",
    "Sample Output:\n",
    "True\n",
    "False"
   ]
  },
  {
   "cell_type": "code",
   "execution_count": null,
   "metadata": {},
   "outputs": [],
   "source": [
    "starts_With = lambda x: True if x.startswith('P') else False\n",
    "print(starts_With('Python'))\n",
    "print(starts_With('Java'))"
   ]
  },
  {
   "cell_type": "markdown",
   "metadata": {},
   "source": [
    "###### Write a Python program to extract year, month, date and time using Lambda. Go to the editor\n",
    "Sample Output:\n",
    "2020-01-15 09:03:32.744178\n",
    "2020\n",
    "1\n",
    "15\n",
    "09:03:32.744178"
   ]
  },
  {
   "cell_type": "code",
   "execution_count": null,
   "metadata": {},
   "outputs": [],
   "source": [
    "import datetime\n",
    "now = datetime.datetime.now()\n",
    "\n",
    "year, month, day, time = lambda x:x.year, lambda x:x.month, lambda x:x.day, lambda x:x.time()\n",
    "print(year(now))\n",
    "print(month(now))\n",
    "print(day(now))\n",
    "print(time(now))"
   ]
  },
  {
   "cell_type": "markdown",
   "metadata": {},
   "source": [
    "###### Write a Python program to create Fibonacci series upto n using Lambda. Go to the editor\n",
    "Fibonacci series upto 2:\n",
    "[0, 1]\n",
    "Fibonacci series upto 5:\n",
    "[0, 1, 1, 2, 3]\n",
    "Fibonacci series upto 6:\n",
    "[0, 1, 1, 2, 3, 5]\n",
    "Fibonacci series upto 9:\n",
    "[0, 1, 1, 2, 3, 5, 8, 13, 21]"
   ]
  },
  {
   "cell_type": "code",
   "execution_count": null,
   "metadata": {},
   "outputs": [],
   "source": [
    "from functools import reduce\n",
    "\n",
    "fib_series = lambda n: reduce(lambda x, _: x+[x[-1]+x[-2]],\n",
    "                                range(n-2), [0, 1])\n",
    "\n",
    "print(fib_series(2))\n",
    "print(fib_series(5))\n",
    "print(fib_series(6))\n",
    "print(fib_series(7))"
   ]
  },
  {
   "cell_type": "markdown",
   "metadata": {
    "collapsed": true
   },
   "source": [
    "###### Write a Python program to find intersection of two given arrays using Lambda. Go to the editor\n",
    "Original arrays:\n",
    "[1, 2, 3, 5, 7, 8, 9, 10]\n",
    "[1, 2, 4, 8, 9]\n",
    "Intersection of the said arrays: [1, 2, 8, 9]"
   ]
  },
  {
   "cell_type": "code",
   "execution_count": null,
   "metadata": {},
   "outputs": [],
   "source": [
    "array1 = [1, 2, 3, 5, 7, 8, 9, 10]\n",
    "array2 = [1, 2, 4, 8, 9] \n",
    "\n",
    "final_array = list(filter(lambda x: x in array1, array2))\n",
    "print(final_array)"
   ]
  },
  {
   "cell_type": "markdown",
   "metadata": {},
   "source": [
    "###### Write a Python program to rearrange positive and negative numbers in a given array using Lambda. Go to the editor\n",
    "Original arrays:\n",
    "[-1, 2, -3, 5, 7, 8, 9, -10]\n",
    "Rearrange positive and negative numbers of the said array:\n",
    "[2, 5, 7, 8, 9, -10, -3, -1]"
   ]
  },
  {
   "cell_type": "code",
   "execution_count": null,
   "metadata": {},
   "outputs": [],
   "source": [
    "array1 = [-1, 2, -3, 5, 7, 8, 9, -10]\n",
    "\n",
    "result = [x for x in array1 if x > 0] + sorted([y for y in array1 if y < 0], reverse = False)\n",
    "print(result)"
   ]
  },
  {
   "cell_type": "code",
   "execution_count": null,
   "metadata": {},
   "outputs": [],
   "source": [
    "array2 = [-1, 2, -3, 5, 7, 8, 9, -10]\n",
    "\n",
    "result = sorted(array2, key = lambda i: 0 if i == 0 else -1 /i)\n",
    "print(result)"
   ]
  },
  {
   "cell_type": "markdown",
   "metadata": {},
   "source": [
    "###### Write a Python program to count the even, odd numbers in a given array of integers using Lambda. Go to the editor\n",
    "Original arrays:\n",
    "[1, 2, 3, 5, 7, 8, 9, 10]\n",
    "Number of even numbers in the above array: 3\n",
    "Number of odd numbers in the above array: 5"
   ]
  },
  {
   "cell_type": "code",
   "execution_count": null,
   "metadata": {},
   "outputs": [],
   "source": [
    "orig_array = [1, 2, 3, 5, 7, 8, 9, 10]\n",
    "\n",
    "odd_counter =  len(list(filter(lambda x: x % 2 != 0, orig_array)))\n",
    "even_counter = len(list(filter(lambda x: x % 2 == 0, orig_array)))\n",
    "\n",
    "print(\"Number of even numbers in the above array:\", even_counter)\n",
    "print(\"Number of odd numbers in the above array:\", odd_counter)"
   ]
  },
  {
   "cell_type": "markdown",
   "metadata": {},
   "source": [
    "###### Write a Python program to find the values of length six in a given list using Lambda. Go to the editor\n",
    "Sample Output:\n",
    "Monday\n",
    "Friday\n",
    "Sunday"
   ]
  },
  {
   "cell_type": "code",
   "execution_count": null,
   "metadata": {},
   "outputs": [],
   "source": [
    "weekdays = ['Monday', 'Tuesday', 'Wednesday', 'Thursday', 'Friday', 'Saturday', 'Sunday']\n",
    "\n",
    "days = filter(lambda x : len(x) == 6, weekdays)\n",
    "\n",
    "for d in days:\n",
    "    print(d)"
   ]
  },
  {
   "cell_type": "markdown",
   "metadata": {},
   "source": [
    "###### Write a Python program to add two given lists using map and lambda. Go to the editor\n",
    "Original list:\n",
    "[1, 2, 3]\n",
    "[4, 5, 6]\n",
    "Result: after adding two list\n",
    "[5, 7, 9]"
   ]
  },
  {
   "cell_type": "code",
   "execution_count": null,
   "metadata": {},
   "outputs": [],
   "source": [
    "arr1 = [1,2,3]\n",
    "arr2 = [4,5,6]\n",
    "\n",
    "arr3 = list(map(lambda x,y: x+y, arr1,arr2))\n",
    "print(arr3)"
   ]
  },
  {
   "cell_type": "markdown",
   "metadata": {},
   "source": [
    "###### Write a Python program to find palindromes in a given list of strings using Lambda. Go to the editor\n",
    "Orginal list of strings:\n",
    "['php', 'w3r', 'Python', 'abcd', 'Java', 'aaa']\n",
    "List of palindromes:\n",
    "['php', 'aaa']"
   ]
  },
  {
   "cell_type": "code",
   "execution_count": null,
   "metadata": {},
   "outputs": [],
   "source": [
    "stringList = ['php', 'w3r', 'Python', 'abcd', 'Java', 'aaa']\n",
    "\n",
    "newList = list(filter(lambda x: x == x[::-1], stringList))\n",
    "print(newList)"
   ]
  },
  {
   "cell_type": "markdown",
   "metadata": {},
   "source": [
    "###### Write a Python program to find all anagrams of a string in a given list of strings using lambda. Go to the editor\n",
    "Orginal list of strings:\n",
    "['bcda', 'abce', 'cbda', 'cbea', 'adcb']\n",
    "Anagrams of 'abcd' in the above string:\n",
    "['bcda', 'cbda', 'adcb']"
   ]
  },
  {
   "cell_type": "code",
   "execution_count": null,
   "metadata": {},
   "outputs": [],
   "source": [
    "from collections import Counter\n",
    "\n",
    "myTexts = ['bcda', 'abce', 'cbda', 'cbea', 'adcb']\n",
    "mystr = \"abcd\"\n",
    "\n",
    "anagramList = list(filter(lambda x: Counter(x) == Counter(mystr), myTexts))\n",
    "print(anagramList)"
   ]
  },
  {
   "cell_type": "markdown",
   "metadata": {},
   "source": [
    "###### Write a Python program to find the numbers of a given string and store them in a list, display the numbers which are bigger than the length of the list in sorted form. Use lambda function to solve the problem. Go to the editor\n",
    "Original string: sdf 23 safs8 5 sdfsd8 sdfs 56 21sfs 20 5\n",
    "Numbers in sorted form:\n",
    "20 23 56"
   ]
  },
  {
   "cell_type": "code",
   "execution_count": null,
   "metadata": {},
   "outputs": [],
   "source": [
    "myString = 'sdf 23 safs8 5 sdfsd8 sdfs 56 21sfs 20 5'\n",
    "texts = myString.split(' ')\n",
    "print(texts)\n",
    "\n",
    "length = len(texts)\n",
    "print(length)\n",
    "\n",
    "nums =  list(filter(lambda x: x > length, sorted([int(x) for x in texts if x.isdigit()])))\n",
    "print(nums)"
   ]
  },
  {
   "cell_type": "markdown",
   "metadata": {},
   "source": [
    "###### Write a Python program that sum the length of the names of a given list of names after removing the names that starts with an lowercase letter. Use lambda function. Go to the editor\n",
    "Result:\n",
    "16"
   ]
  },
  {
   "cell_type": "code",
   "execution_count": null,
   "metadata": {},
   "outputs": [],
   "source": [
    "sample_names = ['sally', 'Dylan', 'rebecca', 'Diana', 'Joanne', 'keith']\n",
    "\n",
    "sample_names = list(filter(lambda el: el[0].isupper(), sample_names))\n",
    "print(len(''.join(sample_names)))"
   ]
  },
  {
   "cell_type": "markdown",
   "metadata": {},
   "source": [
    "###### Write a Python program to calculate the sum of the positive and negative numbers of a given list of numbers using lambda function. Go to the editor\n",
    "Original list: [2, 4, -6, -9, 11, -12, 14, -5, 17]\n",
    "Sum of the positive numbers: -32\n",
    "Sum of the negative numbers: 48"
   ]
  },
  {
   "cell_type": "code",
   "execution_count": null,
   "metadata": {},
   "outputs": [],
   "source": [
    "myOrigList = [2, 4, -6, -9, 11, -12, 14, -5, 17]\n",
    "\n",
    "print(\"Sum of the positive numbers: \",sum(list(filter(lambda x : x>0 , myOrigList))))\n",
    "print(\"Sum of the negative numbers: \",sum(list(filter(lambda x : x<0 , myOrigList))))"
   ]
  },
  {
   "cell_type": "markdown",
   "metadata": {},
   "source": [
    "###### Write a Python program to find the list with maximum and minimum length using lambda. Go to the editor\n",
    "Original list:\n",
    "[[0], [1, 3], [5, 7], [9, 11], [13, 15, 17]]\n",
    "List with maximum length of lists:\n",
    "(3, [13, 15, 17])\n",
    "List with minimum length of lists:\n",
    "(1, [0])"
   ]
  },
  {
   "cell_type": "code",
   "execution_count": null,
   "metadata": {},
   "outputs": [],
   "source": [
    "myList = [[0], [1, 3], [5, 7], [9, 11], [13, 15, 17]]\n",
    "print(myList)\n",
    "\n",
    "max_length = max(len(x) for x in myList)\n",
    "max_list = max(myList, key  = lambda i: len(i))\n",
    "\n",
    "print(max_length)\n",
    "print(max_list)\n",
    "\n",
    "min_length = min(len(x) for x in myList)\n",
    "min_list = min(myList, key = lambda i: len(i))\n",
    "\n",
    "print(min_length)\n",
    "print(min_list)"
   ]
  },
  {
   "cell_type": "markdown",
   "metadata": {},
   "source": [
    "### Enum Challenges"
   ]
  },
  {
   "cell_type": "markdown",
   "metadata": {},
   "source": [
    "###### Write a Python program to create an Enum object and display a member name and value."
   ]
  },
  {
   "cell_type": "code",
   "execution_count": null,
   "metadata": {},
   "outputs": [],
   "source": [
    "from enum import Enum\n",
    "class Country(Enum):\n",
    "    Afghanistan = 93\n",
    "    Albania = 355\n",
    "    Algeria = 213\n",
    "    Andorra = 376\n",
    "    Angola = 244\n",
    "    Antartica = 672\n",
    "print(\"\\nMember Name: {}\".format(Country.Angola.name))\n",
    "print(\"Member Value: {}\".format(Country.Angola.value))"
   ]
  },
  {
   "cell_type": "markdown",
   "metadata": {},
   "source": [
    "###### Write a Python program to iterate over an enum class and display individual member and their value"
   ]
  },
  {
   "cell_type": "code",
   "execution_count": null,
   "metadata": {},
   "outputs": [],
   "source": [
    "from enum import Enum\n",
    "class Country(Enum):\n",
    "    Afghanistan = 93\n",
    "    Albania = 355\n",
    "    Algeria = 213\n",
    "    Andorra = 376\n",
    "    Angola = 244\n",
    "    Antarctica = 672\n",
    "    \n",
    "for data in Country:\n",
    "    print(\"{:15} = {}\".format(data.name, data.value))"
   ]
  },
  {
   "cell_type": "markdown",
   "metadata": {},
   "source": [
    "###### Write a Python program to display all the member name of an enum class ordered by their values"
   ]
  },
  {
   "cell_type": "code",
   "execution_count": null,
   "metadata": {},
   "outputs": [],
   "source": [
    "import enum\n",
    "class Country(enum.IntEnum):\n",
    "    Afghanistan = 93\n",
    "    Albania = 355\n",
    "    Algeria = 213\n",
    "    Andorra = 376\n",
    "    Angola = 244\n",
    "    Antarctica = 672\n",
    "    \n",
    "print(\"Country Name ordered by Country Code:\")\n",
    "print('\\n'.join(' ' + c.name for c in sorted(Country)))"
   ]
  },
  {
   "cell_type": "markdown",
   "metadata": {},
   "source": [
    "##### Write a Python program to get all values from an enum clas"
   ]
  },
  {
   "cell_type": "code",
   "execution_count": null,
   "metadata": {},
   "outputs": [],
   "source": [
    "from enum import IntEnum\n",
    "class Country(IntEnum):\n",
    "    Afghanistan = 93\n",
    "    Albania = 355\n",
    "    Algeria = 213\n",
    "    Andorra = 376\n",
    "    Angola = 244\n",
    "    Antarctica = 672\n",
    "    \n",
    "print(list(map(int, Country)))"
   ]
  },
  {
   "cell_type": "markdown",
   "metadata": {},
   "source": [
    "###### Write a Python program to get the unique enumeration values"
   ]
  },
  {
   "cell_type": "code",
   "execution_count": null,
   "metadata": {},
   "outputs": [],
   "source": [
    "import enum\n",
    "class Countries(enum.Enum):\n",
    "    Afghanistan = 93\n",
    "    Albania = 355\n",
    "    Algeria = 213\n",
    "    Andorra = 376\n",
    "    Angola = 244\n",
    "    India = 355\n",
    "    USA = 213\n",
    "for result in Countries:\n",
    "    print('{:15} = {}'.format(result.name, result.value))"
   ]
  }
 ],
 "metadata": {
  "kernelspec": {
   "display_name": "Python 3",
   "language": "python",
   "name": "python3"
  },
  "language_info": {
   "codemirror_mode": {
    "name": "ipython",
    "version": 3
   },
   "file_extension": ".py",
   "mimetype": "text/x-python",
   "name": "python",
   "nbconvert_exporter": "python",
   "pygments_lexer": "ipython3",
   "version": "3.6.1"
  }
 },
 "nbformat": 4,
 "nbformat_minor": 2
}
