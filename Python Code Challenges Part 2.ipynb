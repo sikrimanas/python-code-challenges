{
 "cells": [
  {
   "cell_type": "markdown",
   "metadata": {},
   "source": [
    "####  1. FIRST WORD CHALLENGE"
   ]
  },
  {
   "cell_type": "code",
   "execution_count": null,
   "metadata": {},
   "outputs": [],
   "source": [
    "def first_word(text: str) -> str:\n",
    "    \"\"\"\n",
    "        returns the first word in a given text.\n",
    "    \"\"\"\n",
    "    # your code here\n",
    "    import re\n",
    "    text2 = re.sub(\"^\\s+\",\"\", text)\n",
    "    text2 = re.sub(\"^\\d+\",\"\", text2)\n",
    "    text2 = re.sub(\"^\\W+\",\"\", text2)\n",
    "    text2 = re.sub(\",\",\"\", text2)\n",
    "    \n",
    "    return (text2.split(\" \")[0])\n",
    "\n",
    "\n",
    "if __name__ == '__main__':\n",
    "    print(\"Example:\")\n",
    "    print(first_word(\"Hello world\"))\n",
    "    \n",
    "    # These \"asserts\" are used for self-checking and not for an auto-testing\n",
    "    assert first_word(\"Hello world\") == \"Hello\"\n",
    "    assert first_word(\" a word \") == \"a\"\n",
    "    assert first_word(\"don't touch it\") == \"don't\"\n",
    "    assert first_word(\"greetings, friends\") == \"greetings\"\n",
    "    assert first_word(\"... and so on ...\") == \"and\"\n",
    "    assert first_word(\"hi\") == \"hi\"\n",
    "    print(\"Coding complete? Click 'Check' to earn cool rewards!\")"
   ]
  },
  {
   "cell_type": "markdown",
   "metadata": {},
   "source": [
    "#### 2. Second Index Challenge"
   ]
  },
  {
   "cell_type": "code",
   "execution_count": null,
   "metadata": {},
   "outputs": [],
   "source": [
    "def second_index(text: str, symbol: str):\n",
    "    \"\"\"\n",
    "        returns the second index of a symbol in a given text\n",
    "    \"\"\"\n",
    "    # your code here\n",
    "    indexes = []\n",
    "    for pos,char in enumerate(text):\n",
    "        if char == symbol:\n",
    "            indexes.append(pos)\n",
    "    \n",
    "    if (len(indexes) > 1):\n",
    "        #return (indexes[1])\n",
    "        return (indexes[1])\n",
    "        \n",
    "\n",
    "if __name__ == '__main__':\n",
    "    print('Example:')\n",
    "    print(second_index(\"sims\", \"s\"))\n",
    "\n",
    "    # These \"asserts\" are used for self-checking and not for an auto-testing\n",
    "    assert second_index(\"sims\", \"s\") == 3, \"First\"\n",
    "    assert second_index(\"find the river\", \"e\") == 12, \"Second\"\n",
    "    assert second_index(\"hi\", \" \") is None, \"Third\"\n",
    "    assert second_index(\"hi mayor\", \" \") is None, \"Fourth\"\n",
    "    assert second_index(\"hi mr Mayor\", \" \") == 5, \"Fifth\"\n",
    "    print('You are awesome! All tests are done! Go Check it!')"
   ]
  },
  {
   "cell_type": "markdown",
   "metadata": {},
   "source": [
    "#### 3. Between Markers Challenge"
   ]
  },
  {
   "cell_type": "code",
   "execution_count": null,
   "metadata": {},
   "outputs": [],
   "source": [
    "def between_markers(text: str, begin: str, end: str) -> str:\n",
    "    \"\"\"\n",
    "        returns substring between two given markers\n",
    "    \"\"\"\n",
    "    # your code here\n",
    "    if text.find(begin) != -1 and text.find(end) != -1:\n",
    "        start = text.index(begin) + len(begin)\n",
    "        last = text.index(end)\n",
    "        return (text[start:last])\n",
    "    elif text.find(begin) == -1 and text.find(end) != -1:\n",
    "        last = text.index(end)\n",
    "        return (text[:last])\n",
    "    elif text.find(begin) != -1 and text.find(end) == -1:\n",
    "        start = text.index(begin) + len(begin)\n",
    "        return (text[start:])\n",
    "    else:\n",
    "        return (text)\n",
    "\n",
    "\n",
    "if __name__ == '__main__':\n",
    "    print('Example:')\n",
    "    print(between_markers('What is >apple<', '>', '<'))\n",
    "\n",
    "    # These \"asserts\" are used for self-checking and not for testing\n",
    "    assert between_markers('What is >apple<', '>', '<') == \"apple\", \"One sym\"\n",
    "    assert between_markers(\"<head><title>My new site</title></head>\",\n",
    "                           \"<title>\", \"</title>\") == \"My new site\", \"HTML\"\n",
    "    assert between_markers('No[/b] hi', '[b]', '[/b]') == 'No', 'No opened'\n",
    "    assert between_markers('No [b]hi', '[b]', '[/b]') == 'hi', 'No close'\n",
    "    assert between_markers('No hi', '[b]', '[/b]') == 'No hi', 'No markers at all'\n",
    "    assert between_markers('No <hi>', '>', '<') == '', 'Wrong direction'\n",
    "    print('Wow, you are doing pretty good. Time to check it!')"
   ]
  },
  {
   "cell_type": "markdown",
   "metadata": {},
   "source": [
    "#### 4. Calculator Challenge"
   ]
  },
  {
   "cell_type": "code",
   "execution_count": null,
   "metadata": {},
   "outputs": [],
   "source": [
    "def checkio(number):\n",
    "    #Your code here\n",
    "    #It's main function. Don't remove this function\n",
    "    #It's using for auto-testing and must return a result for check.\n",
    "\n",
    "    #replace this for solution\n",
    "    if number%3 == 0 and number%5 == 0:\n",
    "        return (\"Fizz Buzz\")\n",
    "    elif number%3 == 0:\n",
    "        return (\"Fizz\")\n",
    "    elif number%5 == 0:\n",
    "        return (\"Buzz\")\n",
    "    else:\n",
    "        return(str(number))\n",
    "\n",
    "#Some hints:\n",
    "#Convert a number in the string with str(n)\n",
    "\n",
    "#These \"asserts\" using only for self-checking and not necessary for auto-testing\n",
    "if __name__ == '__main__':\n",
    "    assert checkio(15) == \"Fizz Buzz\", \"15 is divisible by 3 and 5\"\n",
    "    assert checkio(6) == \"Fizz\", \"6 is divisible by 3\"\n",
    "    assert checkio(5) == \"Buzz\", \"5 is divisible by 5\"\n",
    "    assert checkio(7) == \"7\", \"7 is not divisible by 3 or 5\"\n",
    "    print(\"Coding complete? Click 'Check' to review your tests and earn cool rewards!\")"
   ]
  },
  {
   "cell_type": "markdown",
   "metadata": {},
   "source": [
    "#### 5. The Most Numbers"
   ]
  },
  {
   "cell_type": "code",
   "execution_count": null,
   "metadata": {},
   "outputs": [],
   "source": [
    "def checkio(*args):\n",
    "    if args:\n",
    "        return (max(args)-min(args))\n",
    "    else:\n",
    "        return 0\n",
    "\n",
    "#These \"asserts\" using only for self-checking and not necessary for auto-testing\n",
    "if __name__ == '__main__':\n",
    "    def almost_equal(checked, correct, significant_digits):\n",
    "        precision = 0.1 ** significant_digits\n",
    "        return correct - precision < checked < correct + precision\n",
    "\n",
    "    assert almost_equal(checkio(1, 2, 3), 2, 3), \"3-1=2\"\n",
    "    assert almost_equal(checkio(5, -5), 10, 3), \"5-(-5)=10\"\n",
    "    assert almost_equal(checkio(10.2, -2.2, 0, 1.1, 0.5), 12.4, 3), \"10.2-(-2.2)=12.4\"\n",
    "    assert almost_equal(checkio(), 0, 3), \"Empty\"\n",
    "    print(\"Coding complete? Click 'Check' to review your tests and earn cool rewards!\")"
   ]
  },
  {
   "cell_type": "markdown",
   "metadata": {},
   "source": [
    "#### 6. Even Last Challenge"
   ]
  },
  {
   "cell_type": "code",
   "execution_count": null,
   "metadata": {},
   "outputs": [],
   "source": [
    "def checkio(array):\n",
    "    \"\"\"\n",
    "        sums even-indexes elements and multiply at the last\n",
    "    \"\"\"\n",
    "    sum = 0\n",
    "    for idx, val in enumerate(array):\n",
    "        if (idx%2 == 0):\n",
    "            sum = sum + val\n",
    "\n",
    "    if len(array) != 0:\n",
    "        return (sum * array[len(array)-1])\n",
    "    else: return 0\n",
    "\n",
    "#These \"asserts\" using only for self-checking and not necessary for auto-testing\n",
    "if __name__ == '__main__':\n",
    "    assert checkio([0, 1, 2, 3, 4, 5]) == 30, \"(0+2+4)*5=30\"\n",
    "    assert checkio([1, 3, 5]) == 30, \"(1+5)*5=30\"\n",
    "    assert checkio([6]) == 36, \"(6)*6=36\"\n",
    "    assert checkio([]) == 0, \"An empty array = 0\"\n",
    "    print(\"Coding complete? Click 'Check' to review your tests and earn cool rewards!\")"
   ]
  },
  {
   "cell_type": "markdown",
   "metadata": {},
   "source": [
    "#### 7. Secret Message Challenge"
   ]
  },
  {
   "cell_type": "code",
   "execution_count": null,
   "metadata": {},
   "outputs": [],
   "source": [
    "def find_message(text):\n",
    "    \"\"\"Find a secret message\"\"\"\n",
    "    uppers = [l for l in text if l.isupper()]\n",
    "    return (\"\".join(uppers))\n",
    "\n",
    "if __name__ == '__main__':\n",
    "    #These \"asserts\" using only for self-checking and not necessary for auto-testing\n",
    "    assert find_message(\"How are you? Eh, ok. Low or Lower? Ohhh.\") == \"HELLO\", \"hello\"\n",
    "    assert find_message(\"hello world!\") == \"\", \"Nothing\"\n",
    "    assert find_message(\"HELLO WORLD!!!\") == \"HELLOWORLD\", \"Capitals\"\n",
    "    print(\"Coding complete? Click 'Check' to review your tests and earn cool rewards!\")"
   ]
  },
  {
   "cell_type": "markdown",
   "metadata": {},
   "source": [
    "#### 8. Three Words"
   ]
  },
  {
   "cell_type": "code",
   "execution_count": null,
   "metadata": {},
   "outputs": [],
   "source": [
    "def checkio(words):\n",
    "    i = 0\n",
    "    for word in words.split():\n",
    "        if word.isalpha():\n",
    "            i += 1\n",
    "        else:\n",
    "            i = 0\n",
    "        if i == 3:\n",
    "            return True\n",
    "    return False\n",
    "\n",
    "#These \"asserts\" using only for self-checking and not necessary for auto-testing\n",
    "if __name__ == '__main__':\n",
    "    assert checkio(\"Hello World hello\") == True, \"Hello\"\n",
    "    assert checkio(\"He is 123 man\") == False, \"123 man\"\n",
    "    assert checkio(\"1 2 3 4\") == False, \"Digits\"\n",
    "    assert checkio(\"bla bla bla bla\") == True, \"Bla Bla\"\n",
    "    assert checkio(\"Hi\") == False, \"Hi\"\n",
    "    print(\"Coding complete? Click 'Check' to review your tests and earn cool rewards!\")"
   ]
  },
  {
   "cell_type": "markdown",
   "metadata": {},
   "source": [
    "#### 9. Index Power Challenge"
   ]
  },
  {
   "cell_type": "code",
   "execution_count": null,
   "metadata": {},
   "outputs": [],
   "source": [
    "def index_power(array, n):\n",
    "    \"\"\"\n",
    "        Find Nth power of the element with index N.\n",
    "    \"\"\"\n",
    "    value = 0\n",
    "    for idx, val in enumerate(array):\n",
    "        if idx == n:\n",
    "            value = val**n\n",
    "\n",
    "    if value != 0:\n",
    "        return value\n",
    "    else:\n",
    "        return (-1)\n",
    "\n",
    "if __name__ == '__main__':\n",
    "    #These \"asserts\" using only for self-checking and not necessary for auto-testing\n",
    "    assert index_power([1, 2, 3, 4], 2) == 9, \"Square\"\n",
    "    assert index_power([1, 3, 10, 100], 3) == 1000000, \"Cube\"\n",
    "    assert index_power([0, 1], 0) == 1, \"Zero power\"\n",
    "    assert index_power([1, 2], 3) == -1, \"IndexError\"\n",
    "    print(\"Coding complete? Click 'Check' to review your tests and earn cool rewards!\")"
   ]
  },
  {
   "cell_type": "markdown",
   "metadata": {},
   "source": [
    "#### 10. Right to Left Challenge"
   ]
  },
  {
   "cell_type": "code",
   "execution_count": null,
   "metadata": {},
   "outputs": [],
   "source": [
    "def left_join(phrases):\n",
    "    \"\"\"\n",
    "        Join strings and replace \"right\" to \"left\"\n",
    "    \"\"\"\n",
    "    return \",\".join(phrases).replace(\"right\",\"left\")\n",
    "\n",
    "if __name__ == '__main__':\n",
    "    #These \"asserts\" using only for self-checking and not necessary for auto-testing\n",
    "    assert left_join((\"left\", \"right\", \"left\", \"stop\")) == \"left,left,left,stop\", \"All to left\"\n",
    "    assert left_join((\"bright aright\", \"ok\")) == \"bleft aleft,ok\", \"Bright Left\"\n",
    "    assert left_join((\"brightness wright\",)) == \"bleftness wleft\", \"One phrase\"\n",
    "    assert left_join((\"enough\", \"jokes\")) == \"enough,jokes\", \"Nothing to replace\"\n",
    "    print(\"Coding complete? Click 'Check' to review your tests and earn cool rewards!\")"
   ]
  },
  {
   "cell_type": "markdown",
   "metadata": {},
   "source": [
    "#### 11. Digits Multiplication"
   ]
  },
  {
   "cell_type": "code",
   "execution_count": null,
   "metadata": {},
   "outputs": [],
   "source": [
    "def checkio(number):\n",
    "\n",
    "    result =1\n",
    "    for x in str(number):\n",
    "        n = int(x)\n",
    "        if n != 0:\n",
    "            result *= n\n",
    "\n",
    "    return (result)\n",
    "    \n",
    "#These \"asserts\" using only for self-checking and not necessary for auto-testing\n",
    "if __name__ == '__main__':\n",
    "    assert checkio(123405) == 120\n",
    "    assert checkio(999) == 729\n",
    "    assert checkio(1000) == 1\n",
    "    assert checkio(1111) == 1\n",
    "    print(\"Coding complete? Click 'Check' to review your tests and earn cool rewards!\")"
   ]
  },
  {
   "cell_type": "markdown",
   "metadata": {},
   "source": [
    "#### 12. Number Base Challenge"
   ]
  },
  {
   "cell_type": "code",
   "execution_count": null,
   "metadata": {},
   "outputs": [],
   "source": [
    "def checkio(str_number, radix):\n",
    "    try:\n",
    "        return int(str_number, radix)\n",
    "    except ValueError:\n",
    "        return -1\n",
    "\n",
    "#These \"asserts\" using only for self-checking and not necessary for auto-testing\n",
    "if __name__ == '__main__':\n",
    "    assert checkio(\"AF\", 16) == 175, \"Hex\"\n",
    "    assert checkio(\"101\", 2) == 5, \"Bin\"\n",
    "    assert checkio(\"101\", 5) == 26, \"5 base\"\n",
    "    assert checkio(\"Z\", 36) == 35, \"Z base\"\n",
    "    assert checkio(\"AB\", 10) == -1, \"B > A = 10\"\n",
    "    print(\"Coding complete? Click 'Check' to review your tests and earn cool rewards!\")"
   ]
  },
  {
   "cell_type": "markdown",
   "metadata": {},
   "source": [
    "#### 13. Absolute Sorting Challenge"
   ]
  },
  {
   "cell_type": "code",
   "execution_count": null,
   "metadata": {},
   "outputs": [],
   "source": [
    "def checkio(numbers_array):\n",
    "    return sorted(numbers_array, key=abs)\n",
    "\n",
    "#These \"asserts\" using only for self-checking and not necessary for auto-testing\n",
    "if __name__ == '__main__':\n",
    "    def check_it(array):\n",
    "        if not isinstance(array, (list, tuple)):\n",
    "            raise TypeError(\"The result should be a list or tuple.\")\n",
    "        return list(array)\n",
    "\n",
    "    assert check_it(checkio((-20, -5, 10, 15))) == [-5, 10, 15, -20], \"Example\"  # or (-5, 10, 15, -20)\n",
    "    assert check_it(checkio((1, 2, 3, 0))) == [0, 1, 2, 3], \"Positive numbers\"\n",
    "    assert check_it(checkio((-1, -2, -3, 0))) == [0, -1, -2, -3], \"Negative numbers\"\n",
    "    print(\"Coding complete? Click 'Check' to review your tests and earn cool rewards!\")"
   ]
  },
  {
   "cell_type": "markdown",
   "metadata": {},
   "source": [
    "#### 14. The Most Frequent Challenge"
   ]
  },
  {
   "cell_type": "code",
   "execution_count": null,
   "metadata": {},
   "outputs": [],
   "source": [
    "def most_frequent(data):\n",
    "    \"\"\"\n",
    "        determines the most frequently occurring string in the sequence.\n",
    "    \"\"\"\n",
    "    # your code here\n",
    "    from collections import Counter\n",
    "    count = Counter(data)\n",
    "    return count.most_common()[0][0]\n",
    "\n",
    "if __name__ == '__main__':\n",
    "    #These \"asserts\" using only for self-checking and not necessary for auto-testing\n",
    "    assert most_frequent([\n",
    "        'a', 'b', 'c', \n",
    "        'a', 'b',\n",
    "        'a'\n",
    "    ]) == 'a'\n",
    "\n",
    "    assert most_frequent(['a', 'a', 'bi', 'bi', 'bi']) == 'bi'\n",
    "    print('Done')"
   ]
  },
  {
   "cell_type": "markdown",
   "metadata": {},
   "source": [
    "#### 15. Easy Unpack Challenge"
   ]
  },
  {
   "cell_type": "code",
   "execution_count": null,
   "metadata": {},
   "outputs": [],
   "source": [
    "def easy_unpack(elements):\n",
    "    \"\"\"\n",
    "        returns a tuple with 3 elements - first, third and second to the last\n",
    "    \"\"\"\n",
    "    # your code here\n",
    "    return (elements[0], elements[2], elements[len(elements)-2])\n",
    "\n",
    "if __name__ == '__main__':\n",
    "    #These \"asserts\" using only for self-checking and not necessary for auto-testing\n",
    "    assert easy_unpack((1, 2, 3, 4, 5, 6, 7, 9)) == (1, 3, 7)\n",
    "    assert easy_unpack((1, 1, 1, 1)) == (1, 1, 1)\n",
    "    assert easy_unpack((6, 3, 7)) == (6, 7, 3)\n",
    "    print('Done! Go Check!')"
   ]
  },
  {
   "cell_type": "markdown",
   "metadata": {},
   "source": [
    "#### 16. The Most Wanted Letter"
   ]
  },
  {
   "cell_type": "code",
   "execution_count": null,
   "metadata": {},
   "outputs": [],
   "source": [
    "def checkio(text):\n",
    "      \n",
    "    lower = text.lower()\n",
    "    total = 0\n",
    "\n",
    "    most = lower[0]\n",
    "    for i in lower:\n",
    "        if i.isalpha():\n",
    "            if lower.count(i) > total:\n",
    "                most = i\n",
    "                total = lower.count(i)\n",
    "            elif lower.count(i) == total:\n",
    "                if i < most:\n",
    "                    most = i\n",
    "                    total = lower.count(i)\n",
    "    return(most)\n",
    "    #replace this for solution\n",
    "    #return 'a'\n",
    "\n",
    "if __name__ == '__main__':\n",
    "    #These \"asserts\" using only for self-checking and not necessary for auto-testing\n",
    "    assert checkio(\"Hello World!\") == \"l\", \"Hello test\"\n",
    "    assert checkio(\"How do you do?\") == \"o\", \"O is most wanted\"\n",
    "    assert checkio(\"One\") == \"e\", \"All letter only once.\"\n",
    "    assert checkio(\"Oops!\") == \"o\", \"Don't forget about lower case.\"\n",
    "    assert checkio(\"AAaooo!!!!\") == \"a\", \"Only letters.\"\n",
    "    assert checkio(\"abe\") == \"a\", \"The First.\"\n",
    "    print(\"Start the long test\")\n",
    "    assert checkio(\"a\" * 9000 + \"b\" * 1000) == \"a\", \"Long.\"\n",
    "    print(\"The local tests are done.\")"
   ]
  },
  {
   "cell_type": "markdown",
   "metadata": {
    "collapsed": true
   },
   "source": [
    "#### 17. Non Unique Elements"
   ]
  },
  {
   "cell_type": "code",
   "execution_count": null,
   "metadata": {},
   "outputs": [],
   "source": [
    "def checkio(data):\n",
    "    #Your code here\n",
    "    #It's main function. Don't remove this function\n",
    "    #It's used for auto-testing and must return a result for check.  \n",
    "    list = []\n",
    "    list2 = []\n",
    "\n",
    "    for x in data:\n",
    "        if data.count(x) > 1:\n",
    "            list.append(x)\n",
    "\n",
    "    for y in data:\n",
    "        if y in list:\n",
    "            list2.append(y)\n",
    "\n",
    "    return(list2)\n",
    "    #replace this for solution\n",
    "    #return data\n",
    "\n",
    "#Some hints\n",
    "#You can use list.count(element) method for counting.\n",
    "#Create new list with non-unique elements\n",
    "#Loop over original list\n",
    "\n",
    "\n",
    "if __name__ == \"__main__\":\n",
    "    #These \"asserts\" using only for self-checking and not necessary for auto-testing\n",
    "    assert list(checkio([1, 2, 3, 1, 3])) == [1, 3, 1, 3], \"1st example\"\n",
    "    assert list(checkio([1, 2, 3, 4, 5])) == [], \"2nd example\"\n",
    "    assert list(checkio([5, 5, 5, 5, 5])) == [5, 5, 5, 5, 5], \"3rd example\"\n",
    "    assert list(checkio([10, 9, 10, 10, 9, 8])) == [10, 9, 10, 10, 9], \"4th example\"\n",
    "    print(\"It is all good. Let's check it now\")"
   ]
  },
  {
   "cell_type": "markdown",
   "metadata": {},
   "source": [
    "#### 18. House Password"
   ]
  },
  {
   "cell_type": "code",
   "execution_count": null,
   "metadata": {},
   "outputs": [],
   "source": [
    "def checkio(data):\n",
    "\n",
    "    #replace this for solution\n",
    "    capital_counter = 0\n",
    "    lower_counter = 0\n",
    "    digit_counter = 0\n",
    "\n",
    "    password_check = \"\"\n",
    "\n",
    "    if (len(data)) >= 10:\n",
    "        length_counter = 1\n",
    "    else:\n",
    "        length_counter = 0\n",
    "\n",
    "    for char in range(0,len(data)):\n",
    "        if data[char].isupper():\n",
    "            capital_counter = 1\n",
    "        elif data[char].islower():\n",
    "            lower_counter = 1\n",
    "        elif data[char].isdigit():\n",
    "            digit_counter = 1\n",
    "        \n",
    "\n",
    "    if length_counter != 1 or capital_counter != 1 or lower_counter != 1 or digit_counter != 1:\n",
    "        password_check = False\n",
    "    else:\n",
    "        password_check = True\n",
    "\n",
    "    return (password_check)\n",
    "\n",
    "#Some hints\n",
    "#Just check all conditions\n",
    "\n",
    "\n",
    "if __name__ == '__main__':\n",
    "    #These \"asserts\" using only for self-checking and not necessary for auto-testing\n",
    "    assert checkio('A1213pokl') == False, \"1st example\"\n",
    "    assert checkio('bAse730onE4') == True, \"2nd example\"\n",
    "    assert checkio('asasasasasasasaas') == False, \"3rd example\"\n",
    "    assert checkio('QWERTYqwerty') == False, \"4th example\"\n",
    "    assert checkio('123456123456') == False, \"5th example\"\n",
    "    assert checkio('QwErTy911poqqqq') == True, \"6th example\"\n",
    "    print(\"Coding complete? Click 'Check' to review your tests and earn cool rewards!\")\n"
   ]
  },
  {
   "cell_type": "code",
   "execution_count": null,
   "metadata": {},
   "outputs": [],
   "source": [
    "def checkio(data):\n",
    "    if len(data)>9:\n",
    "        if any(i.isupper() for i in data) and any(i.islower() for i in data) and any(i.isdigit() for i in data):\n",
    "            return True\n",
    "        else:\n",
    "            return False\n",
    "    else:\n",
    "        return False\n",
    "\n",
    "#Some hints\n",
    "#Just check all conditions\n",
    "\n",
    "\n",
    "if __name__ == '__main__':\n",
    "    #These \"asserts\" using only for self-checking and not necessary for auto-testing\n",
    "    assert checkio('A1213pokl') == False, \"1st example\"\n",
    "    assert checkio('bAse730onE4') == True, \"2nd example\"\n",
    "    assert checkio('asasasasasasasaas') == False, \"3rd example\"\n",
    "    assert checkio('QWERTYqwerty') == False, \"4th example\"\n",
    "    assert checkio('123456123456') == False, \"5th example\"\n",
    "    assert checkio('QwErTy911poqqqq') == True, \"6th example\"\n",
    "    print(\"Coding complete? Click 'Check' to review your tests and earn cool rewards!\")"
   ]
  },
  {
   "cell_type": "markdown",
   "metadata": {},
   "source": [
    "#### 19. Monkey Typing"
   ]
  },
  {
   "cell_type": "code",
   "execution_count": null,
   "metadata": {},
   "outputs": [],
   "source": [
    "def count_words(text, words):\n",
    "\n",
    "    text = text.lower()\n",
    "    count = 0\n",
    "\n",
    "    for word in words:\n",
    "        if word in text:\n",
    "            count = count + 1\n",
    "\n",
    "    return (count)\n",
    "\n",
    "if __name__ == '__main__':\n",
    "    #These \"asserts\" using only for self-checking and not necessary for auto-testing\n",
    "    assert count_words(\"How aresjfhdskfhskd you?\", {\"how\", \"are\", \"you\", \"hello\"}) == 3, \"Example\"\n",
    "    assert count_words(\"Bananas, give me bananas!!!\", {\"banana\", \"bananas\"}) == 2, \"BANANAS!\"\n",
    "    assert count_words(\"Lorem ipsum dolor sit amet, consectetuer adipiscing elit.\",\n",
    "                       {\"sum\", \"hamlet\", \"infinity\", \"anything\"}) == 1, \"Weird text\"\n",
    "    print(\"Coding complete? Click 'Check' to review your tests and earn cool rewards!\")"
   ]
  },
  {
   "cell_type": "markdown",
   "metadata": {},
   "source": [
    "#### 20. Xs and Ox Refree"
   ]
  },
  {
   "cell_type": "code",
   "execution_count": null,
   "metadata": {},
   "outputs": [],
   "source": [
    "def checkio(game_result):\n",
    "    #return \"D\" or \"X\" or \"O\"\n",
    "     \n",
    "    result = 'D'\n",
    "    rotated = zip(*game_result)\n",
    "\n",
    "    for row in game_result:\n",
    "        if row[0] == row[1] == row[2] == 'X' and row[0] != '.':\n",
    "            result = 'X'\n",
    "        elif row[0] == row[1] == row[2] == 'O' and row[0] != '.':\n",
    "            result = 'O'\n",
    "        \n",
    "    for row in rotated:\n",
    "        if row[0] == row[1] == row[2] == 'X' and row[0] != '.':\n",
    "            result = 'X'\n",
    "        elif row[0] == row[1] == row[2] == 'O' and row[0] != '.':\n",
    "            result = 'O'\n",
    "\n",
    "    if game_result[0][0] == 'X' and game_result[1][1] == 'X' and game_result[2][2] == 'X':\n",
    "            result = 'X'\n",
    "    if game_result[0][2] == 'X' and game_result[1][1] == 'X' and game_result[2][0] == 'X':\n",
    "            result = 'X'\n",
    "    if game_result[0][0] == 'O' and game_result[1][1] == 'O' and game_result[2][2] == 'O':\n",
    "            result = 'O'\n",
    "    if game_result[0][2] == 'O' and game_result[1][1] == 'O' and game_result[2][0] == 'O':\n",
    "            result = 'O'\n",
    "    \n",
    "    return (result)\n",
    "if __name__ == '__main__':\n",
    "    #These \"asserts\" using only for self-checking and not necessary for auto-testing\n",
    "    assert checkio([\n",
    "        \"X.O\",\n",
    "        \"XX.\",\n",
    "        \"XOO\"]) == \"X\", \"Xs wins\"\n",
    "    assert checkio([\n",
    "        \"OO.\",\n",
    "        \"XOX\",\n",
    "        \"XOX\"]) == \"O\", \"Os wins\"\n",
    "    assert checkio([\n",
    "        \"OOX\",\n",
    "        \"XXO\",\n",
    "        \"OXX\"]) == \"D\", \"Draw\"\n",
    "    assert checkio([\n",
    "        \"O.X\",\n",
    "        \"XX.\",\n",
    "        \"XOO\"]) == \"X\", \"Xs wins again\"\n",
    "    print(\"Coding complete? Click 'Check' to review your tests and earn cool rewards!\")"
   ]
  },
  {
   "cell_type": "markdown",
   "metadata": {},
   "source": [
    "#### 21. Brackets"
   ]
  },
  {
   "cell_type": "code",
   "execution_count": null,
   "metadata": {},
   "outputs": [],
   "source": [
    "def checkio(expression):\n",
    "    stack = []\n",
    "    dict_b = {\"{\": \"}\", \"[\": \"]\", \"(\": \")\"}\n",
    "    for letter in expression:\n",
    "        if letter in dict_b.keys():\n",
    "            stack.append(letter)\n",
    "        if letter in dict_b.values():\n",
    "            if not (stack and dict_b[stack.pop()] == letter):\n",
    "                return False\n",
    "    return not stack\n",
    "\n",
    "#These \"asserts\" using only for self-checking and not necessary for auto-testing\n",
    "if __name__ == '__main__':\n",
    "    assert checkio(\"((5+3)*2+1)\") == True, \"Simple\"\n",
    "    assert checkio(\"{[(3+1)+2]+}\") == True, \"Different types\"\n",
    "    assert checkio(\"(3+{1-1)}\") == False, \") is alone inside {}\"\n",
    "    assert checkio(\"[1+1]+(2*2)-{3/3}\") == True, \"Different operators\"\n",
    "    assert checkio(\"(({[(((1)-2)+3)-3]/3}-3)\") == False, \"One is redundant\"\n",
    "    assert checkio(\"2+3\") == True, \"No brackets, no problem\"\n",
    "    print(\"Challenge Solved\")"
   ]
  },
  {
   "cell_type": "markdown",
   "metadata": {},
   "source": [
    "#### 22. Hamming Distance"
   ]
  },
  {
   "cell_type": "code",
   "execution_count": null,
   "metadata": {
    "collapsed": true
   },
   "outputs": [],
   "source": [
    "def checkio(n, m):\n",
    "\n",
    "    c = m^n\n",
    "    return (bin(c).count('1'))\n",
    "\n",
    "if __name__ == '__main__':\n",
    "    #These \"asserts\" using only for self-checking and not necessary for auto-testing\n",
    "    assert checkio(117, 17) == 3, \"First example\"\n",
    "    assert checkio(1, 2) == 2, \"Second example\"\n",
    "    assert checkio(16, 15) == 5, \"Third example\""
   ]
  },
  {
   "cell_type": "markdown",
   "metadata": {},
   "source": [
    "#### 23. Roman Numerals"
   ]
  },
  {
   "cell_type": "code",
   "execution_count": null,
   "metadata": {
    "collapsed": true
   },
   "outputs": [],
   "source": [
    "def checkio(data):\n",
    "\n",
    "    #replace this for solution\n",
    "    coding = zip(\n",
    "    [1000,900,500,400,100,90,50,40,10,9,5,4,1],\n",
    "    [\"M\",\"CM\",\"D\",\"CD\",\"C\",\"XC\",\"L\",\"XL\",\"X\",\"IX\",\"V\",\"IV\",\"I\"])\n",
    "\n",
    "    result = []\n",
    "    for d,r in coding:\n",
    "        while data >= d:\n",
    "            result.append(r)\n",
    "            data -= d\n",
    "\n",
    "    return (''.join(result))\n",
    "\n",
    "if __name__ == '__main__':\n",
    "    #These \"asserts\" using only for self-checking and not necessary for auto-testing\n",
    "    assert checkio(6) == 'VI', '6'\n",
    "    assert checkio(76) == 'LXXVI', '76'\n",
    "    assert checkio(499) == 'CDXCIX', '499'"
   ]
  },
  {
   "cell_type": "markdown",
   "metadata": {},
   "source": [
    "#### 24. Longest Palindromic"
   ]
  },
  {
   "cell_type": "code",
   "execution_count": null,
   "metadata": {
    "collapsed": true
   },
   "outputs": [],
   "source": [
    "from itertools import combinations\n",
    "def is_palindromic(text):\n",
    "    return text == text[::-1]\n",
    "\n",
    "def longest_palindromic(text):\n",
    "    longest = \"\"\n",
    "    for s, e in combinations(range(len(text) + 1), 2):\n",
    "        substr = text[s:e]\n",
    "        if is_palindromic(substr) and len(longest) < len(substr):\n",
    "            longest = substr\n",
    "\n",
    "    return longest\n",
    "\n",
    "if __name__ == '__main__':\n",
    "    assert longest_palindromic(\"artrartrt\") == \"rtrartr\", \"The Longest\"\n",
    "    assert longest_palindromic(\"abacada\") == \"aba\", \"The First\"\n",
    "    assert longest_palindromic(\"aaaa\") == \"aaaa\", \"The A\""
   ]
  },
  {
   "cell_type": "markdown",
   "metadata": {
    "collapsed": true
   },
   "source": [
    "#### 25. Numbers Factory"
   ]
  },
  {
   "cell_type": "code",
   "execution_count": null,
   "metadata": {
    "collapsed": true
   },
   "outputs": [],
   "source": [
    "def checkio(data):\n",
    "    #replace this for solution\n",
    "    nums = []\n",
    "    while data > 9:\n",
    "        found = False\n",
    "        for i in range(9, 1, -1):\n",
    "            if data % i == 0:\n",
    "                found = True\n",
    "                nums.append(i)\n",
    "                data = data // i\n",
    "                break\n",
    "\n",
    "        if found is False:\n",
    "            return 0\n",
    "\n",
    "    nums.append(data)\n",
    "\n",
    "    rt = \"\"\n",
    "    for num in sorted(nums):\n",
    "        rt += str(num)\n",
    "\n",
    "    return int(rt)\n",
    "\n",
    "if __name__ == '__main__':\n",
    "    #These \"asserts\" using only for self-checking and not necessary for auto-testing\n",
    "    assert checkio(20) == 45, \"1st example\"\n",
    "    assert checkio(21) == 37, \"2nd example\"\n",
    "    assert checkio(17) == 0, \"3rd example\"\n",
    "    assert checkio(33) == 0, \"4th example\"\n",
    "    assert checkio(3125) == 55555, \"5th example\"\n",
    "    assert checkio(9973) == 0, \"6th example\"\n"
   ]
  },
  {
   "cell_type": "markdown",
   "metadata": {},
   "source": [
    "#### 26. Skew-Symmetric Matrix"
   ]
  },
  {
   "cell_type": "code",
   "execution_count": null,
   "metadata": {
    "collapsed": true
   },
   "outputs": [],
   "source": [
    "def checkio(matrix):\n",
    "    import numpy as np\n",
    "    rows = np.shape(matrix)[0]\n",
    "    columns = np.shape(matrix)[1]\n",
    "\n",
    "    flag = True\n",
    "    for i in range(rows):\n",
    "        for j in range(columns):\n",
    "            if matrix[i][j] != matrix[j][i]*-1:\n",
    "                flag = False\n",
    "\n",
    "    return(flag)\n",
    "\n",
    "\n",
    "#These \"asserts\" using only for self-checking and not necessary for auto-testing\n",
    "if __name__ == '__main__':\n",
    "    assert checkio([\n",
    "        [0, 1, 2],\n",
    "        [-1, 0, 1],\n",
    "        [-2, -1, 0]]) == True, \"1st example\"\n",
    "    assert checkio([\n",
    "        [0, 1, 2],\n",
    "        [-1, 1, 1],\n",
    "        [-2, -1, 0]]) == False, \"2nd example\"\n",
    "    assert checkio([\n",
    "        [0, 1, 2],\n",
    "        [-1, 0, 1],\n",
    "        [-3, -1, 0]]) == False, \"3rd example\"\n"
   ]
  },
  {
   "cell_type": "markdown",
   "metadata": {},
   "source": [
    "#### 27.Call to Home"
   ]
  },
  {
   "cell_type": "code",
   "execution_count": null,
   "metadata": {
    "collapsed": true
   },
   "outputs": [],
   "source": [
    "def total_cost(calls):\n",
    "    from collections import defaultdict\n",
    "    import math\n",
    "\n",
    "    d = defaultdict(int)\n",
    "    for i in calls:\n",
    "        data,time,seconds = i.split()\n",
    "        d[data] += math.ceil((int(seconds)/60))\n",
    "\n",
    "    cost = 0\n",
    "    for key in d:\n",
    "        if d[key] <= 100:\n",
    "            cost = cost + d[key]\n",
    "        else:\n",
    "            cost = cost + (d[key]-100)*2 + 100\n",
    "    return(cost)\n",
    "\n",
    "\n",
    "if __name__ == '__main__':\n",
    "    #These \"asserts\" using only for self-checking and not necessary for auto-testing\n",
    "    assert total_cost((\"2014-01-01 01:12:13 181\",\n",
    "                       \"2014-01-02 20:11:10 600\",\n",
    "                       \"2014-01-03 01:12:13 6009\",\n",
    "                       \"2014-01-03 12:13:55 200\")) == 124, \"Base example\"\n",
    "    assert total_cost((\"2014-02-05 01:00:00 1\",\n",
    "                       \"2014-02-05 02:00:00 1\",\n",
    "                       \"2014-02-05 03:00:00 1\",\n",
    "                       \"2014-02-05 04:00:00 1\")) == 4, \"Short calls but money...\"\n",
    "    assert total_cost((\"2014-02-05 01:00:00 60\",\n",
    "                       \"2014-02-05 02:00:00 60\",\n",
    "                       \"2014-02-05 03:00:00 60\",\n",
    "                       \"2014-02-05 04:00:00 6000\")) == 106, \"Precise calls\""
   ]
  },
  {
   "cell_type": "markdown",
   "metadata": {},
   "source": [
    "#### 28. Bird Language"
   ]
  },
  {
   "cell_type": "code",
   "execution_count": null,
   "metadata": {
    "collapsed": true
   },
   "outputs": [],
   "source": [
    "VOWELS = \"aeiouy\"\n",
    "\n",
    "def translate(phrase):\n",
    "    i = 0\n",
    "    new_phrase = ''\n",
    "    while i < len(phrase):\n",
    "        if phrase[i] == ' ':\n",
    "            new_phrase += phrase[i]\n",
    "            i += 1\n",
    "        elif phrase[i] in VOWELS:\n",
    "            new_phrase += phrase[i]\n",
    "            i += 3\n",
    "        else:\n",
    "            new_phrase += phrase[i]\n",
    "            i += 2\n",
    "\n",
    "    return(new_phrase)\n",
    "\n",
    "if __name__ == '__main__':\n",
    "    #These \"asserts\" using only for self-checking and not necessary for auto-testing\n",
    "    assert translate(\"hieeelalaooo\") == \"hello\", \"Hi!\"\n",
    "    assert translate(\"hoooowe yyyooouuu duoooiiine\") == \"how you doin\", \"Joey?\"\n",
    "    assert translate(\"aaa bo cy da eee fe\") == \"a b c d e f\", \"Alphabet\"\n",
    "    assert translate(\"sooooso aaaaaaaaa\") == \"sos aaa\", \"Mayday, mayday\"\n"
   ]
  },
  {
   "cell_type": "markdown",
   "metadata": {
    "collapsed": true
   },
   "source": [
    "#### 29. Longest Word"
   ]
  },
  {
   "cell_type": "code",
   "execution_count": null,
   "metadata": {},
   "outputs": [],
   "source": [
    "def LongestWord(sen): \n",
    "    \n",
    "    import re\n",
    "    sen = re.sub(r'[^\\w]', ' ', sen)\n",
    "    array = sen.split(' ')\n",
    "    \n",
    "    i = 0\n",
    "    idx = 0\n",
    "    max = len(array[0])\n",
    "    \n",
    "    while i < len(array):\n",
    "        if len(array[i]) > max:\n",
    "            idx = i\n",
    "            max = len(array[i])\n",
    "        i=i+1\n",
    "    \n",
    "    return array[idx]\n",
    "    \n",
    "# keep this function call here  \n",
    "print (LongestWord(\"this is some sort of sentence\")) "
   ]
  },
  {
   "cell_type": "markdown",
   "metadata": {},
   "source": [
    "#### 30. Factorial of a Number"
   ]
  },
  {
   "cell_type": "code",
   "execution_count": null,
   "metadata": {},
   "outputs": [],
   "source": [
    "def FirstFactorial(num): \n",
    "\n",
    "    # code goes here \n",
    "    value = 1\n",
    "    \n",
    "    while num > 0:\n",
    "        value = value * (num)\n",
    "        num = num - 1\n",
    "    \n",
    "    return value\n",
    "    \n",
    "# keep this function call here  \n",
    "print FirstFactorial(raw_input())"
   ]
  },
  {
   "cell_type": "markdown",
   "metadata": {},
   "source": [
    "#### 31. First Reverse"
   ]
  },
  {
   "cell_type": "code",
   "execution_count": null,
   "metadata": {},
   "outputs": [],
   "source": [
    "str = \"Argument goes here\"\n",
    "str2 =''.join(reversed(str))\n",
    "print(str2)"
   ]
  },
  {
   "cell_type": "markdown",
   "metadata": {},
   "source": [
    "#### 32. Letter Changes"
   ]
  },
  {
   "cell_type": "code",
   "execution_count": null,
   "metadata": {},
   "outputs": [],
   "source": [
    "def LetterChanges(str): \n",
    "\n",
    "    # code goes here \n",
    "    list1 = list(str)\n",
    "    i=0\n",
    "    list2 = []\n",
    "    while i < len(list1):\n",
    "        if list1[i].isalpha():\n",
    "            if (list1[i] != ' '):\n",
    "                list2.append(chr(ord(list1[i])+1))\n",
    "                i = i+1\n",
    "            elif (list1[i] == ' '):\n",
    "                list2.append(' ')\n",
    "                i = i+1\n",
    "        else:\n",
    "            list2.append(list1[i])\n",
    "            i = i+1\n",
    "\n",
    "    i = 0\n",
    "    while i < len(list2):\n",
    "        if list2[i] == 'a' or list2[i] == 'e' or list2[i] == 'i' or list2[i] == 'o' or list2[i] == 'u':\n",
    "            list2[i] = chr(ord(list1[i])-31)\n",
    "        i = i+1\n",
    "    \n",
    "    str2 = ''.join(list2)\n",
    "    return (str2)\n",
    "    \n",
    "# keep this function call here  \n",
    "print LetterChanges(raw_input()) "
   ]
  },
  {
   "cell_type": "markdown",
   "metadata": {},
   "source": [
    "#### 33. Simple Adding"
   ]
  },
  {
   "cell_type": "code",
   "execution_count": null,
   "metadata": {},
   "outputs": [],
   "source": [
    "def SimpleAdding(num): \n",
    "\n",
    "    # code goes here \n",
    "    i = 1\n",
    "    sum = 0\n",
    "    while i <= num:\n",
    "        sum = sum + i\n",
    "        i = i+1\n",
    "    return sum\n",
    "    \n",
    "# keep this function call here  \n",
    "print SimpleAdding(raw_input())  "
   ]
  },
  {
   "cell_type": "markdown",
   "metadata": {},
   "source": [
    "#### 34. Letter Capitalization"
   ]
  },
  {
   "cell_type": "code",
   "execution_count": null,
   "metadata": {},
   "outputs": [],
   "source": [
    "str = \"hello world\"\n",
    "\n",
    "return(str.title())"
   ]
  },
  {
   "cell_type": "markdown",
   "metadata": {},
   "source": [
    "#### 35. Simple Symbols"
   ]
  },
  {
   "cell_type": "code",
   "execution_count": null,
   "metadata": {},
   "outputs": [],
   "source": [
    "def SimpleSymbols(str): \n",
    "\n",
    "    # code goes here \n",
    "    mylist = list(str)\n",
    "\n",
    "    i = 0\n",
    "    flag = 'true'\n",
    "    while i < len(mylist):\n",
    "        if i == 0:\n",
    "            if mylist[i].isalpha():\n",
    "                flag = 'false'\n",
    "                break\n",
    "            i = i+1\n",
    "        else:\n",
    "            if mylist[i].isalpha():\n",
    "                if mylist[i-1] != '+' or mylist[i+1] != '+':\n",
    "                    flag = 'false'\n",
    "            i = i+1\n",
    "\n",
    "    return (flag)\n",
    "    \n",
    "# keep this function call here  \n",
    "print SimpleSymbols(raw_input())  "
   ]
  },
  {
   "cell_type": "markdown",
   "metadata": {},
   "source": [
    "#### 36.Check Numbers"
   ]
  },
  {
   "cell_type": "code",
   "execution_count": null,
   "metadata": {},
   "outputs": [],
   "source": [
    "def CheckNums(num1,num2): \n",
    "\n",
    "    # code goes here \n",
    "    if num1 < num2:\n",
    "        return(\"true\")\n",
    "    elif num1 == num2:\n",
    "        return(\"-1\")\n",
    "    else:\n",
    "        return(\"false\")\n",
    "    #return num1\n",
    "    \n",
    "# keep this function call here  \n",
    "print CheckNums(raw_input())  "
   ]
  },
  {
   "cell_type": "markdown",
   "metadata": {},
   "source": [
    "#### 37. Time Convert"
   ]
  },
  {
   "cell_type": "code",
   "execution_count": null,
   "metadata": {
    "collapsed": true
   },
   "outputs": [],
   "source": [
    "def TimeConvert(num): \n",
    "\n",
    "    # code goes here \n",
    "    minute = num%60\n",
    "    hour = num//60\n",
    "\n",
    "    return(hour.__str__()+\":\"+minute.__str__())\n",
    "    #return num\n",
    "    \n",
    "# keep this function call here  \n",
    "print TimeConvert(raw_input())"
   ]
  },
  {
   "cell_type": "markdown",
   "metadata": {},
   "source": [
    "#### 38. Alphabet Soup"
   ]
  },
  {
   "cell_type": "code",
   "execution_count": null,
   "metadata": {},
   "outputs": [],
   "source": [
    "def AlphabetSoup(str): \n",
    "\n",
    "    # code goes here \n",
    "    return(''.join(sorted(str)))\n",
    "    \n",
    "# keep this function call here  \n",
    "print AlphabetSoup(raw_input())  "
   ]
  },
  {
   "cell_type": "markdown",
   "metadata": {},
   "source": [
    "#### 39. AB Check"
   ]
  },
  {
   "cell_type": "code",
   "execution_count": null,
   "metadata": {},
   "outputs": [],
   "source": [
    "def ABCheck(str): \n",
    "\n",
    "    # code goes here \n",
    "    mylist = list(str)\n",
    "\n",
    "    i = 0\n",
    "    flag = 'false'\n",
    "    while i < len(mylist):\n",
    "        if i+4 < len(mylist):\n",
    "            if mylist[i] == 'a' and mylist[i+4] == 'b':\n",
    "                flag = 'true'\n",
    "        i = i + 1\n",
    "\n",
    "    return(flag)\n",
    "    #return str\n",
    "    \n",
    "# keep this function call here  \n",
    "print ABCheck(raw_input())  "
   ]
  },
  {
   "cell_type": "markdown",
   "metadata": {},
   "source": [
    "#### 40. Vowel Count"
   ]
  },
  {
   "cell_type": "code",
   "execution_count": null,
   "metadata": {},
   "outputs": [],
   "source": [
    "def VowelCount(str): \n",
    "\n",
    "    # code goes here \n",
    "    count = 0\n",
    "    for i in range(0, len(str)):\n",
    "        if str[i] in 'aeiouAEIOU':\n",
    "            count = count + 1\n",
    "    return count\n",
    "    \n",
    "# keep this function call here  \n",
    "print VowelCount(raw_input())  "
   ]
  },
  {
   "cell_type": "markdown",
   "metadata": {},
   "source": [
    "#### 41. Word Count"
   ]
  },
  {
   "cell_type": "code",
   "execution_count": null,
   "metadata": {},
   "outputs": [],
   "source": [
    "def WordCount(str): \n",
    "\n",
    "    # code goes here \n",
    "    return(len(str.split(' ')))\n",
    "    #return str\n",
    "    \n",
    "# keep this function call here  \n",
    "print WordCount(raw_input())  "
   ]
  },
  {
   "cell_type": "markdown",
   "metadata": {},
   "source": [
    "#### 42. Ex Oh"
   ]
  },
  {
   "cell_type": "code",
   "execution_count": null,
   "metadata": {},
   "outputs": [],
   "source": [
    "def ExOh(str): \n",
    "\n",
    "    # code goes here \n",
    "    xcount = 0\n",
    "    ocount = 0\n",
    "    for i in range(0,len(str)):\n",
    "        if str[i] == 'x':\n",
    "            xcount = xcount + 1\n",
    "        if str[i] == 'o':\n",
    "            ocount = ocount + 1\n",
    "\n",
    "    if xcount == ocount:\n",
    "        return(\"true\")\n",
    "    else:\n",
    "        return(\"false\")\n",
    "    \n",
    "# keep this function call here  \n",
    "print ExOh(raw_input())  "
   ]
  },
  {
   "cell_type": "markdown",
   "metadata": {},
   "source": [
    "#### 43. Palindrome"
   ]
  },
  {
   "cell_type": "code",
   "execution_count": null,
   "metadata": {},
   "outputs": [],
   "source": [
    "def Palindrome(str): \n",
    "    \n",
    "    import re\n",
    "    str = re.sub(\"\\s+\",\"\",str)\n",
    "    if str == ''.join(reversed(str)):\n",
    "        return ('true')\n",
    "    else:\n",
    "        return ('false')\n",
    "    \n",
    "# keep this function call here  \n",
    "print Palindrome(raw_input()) "
   ]
  },
  {
   "cell_type": "markdown",
   "metadata": {},
   "source": [
    "#### 44. Arith Geo "
   ]
  },
  {
   "cell_type": "code",
   "execution_count": null,
   "metadata": {
    "collapsed": true
   },
   "outputs": [],
   "source": [
    "def ArithGeo(array): \n",
    "\n",
    "    diffArth = array[1]-array[0]\n",
    "    diffGeo = array[1]/array[0]\n",
    "    i = 0\n",
    "    flag_arithmetic = True\n",
    "    flag_geometric = True\n",
    "\n",
    "    for i in range(0,len(array)):\n",
    "        if i+1 < len(array):\n",
    "            if array[i+1] - array[i] != diffArth:\n",
    "                flag_arithmetic = False\n",
    "    \n",
    "    for i in range(0,len(array)):\n",
    "        if i+1 < len(array):\n",
    "            if array[i+1]/array[i] != diffGeo:\n",
    "                    flag_geometric = False\n",
    "    \n",
    "    if flag_arithmetic == False and flag_geometric == False:\n",
    "        return(\"-1\")\n",
    "    elif flag_arithmetic == True:\n",
    "        return(\"Arithmetic\")\n",
    "    else:\n",
    "        return(\"Geometric\")\n",
    "    \n",
    "# keep this function call here  \n",
    "print ArithGeo(raw_input())"
   ]
  },
  {
   "cell_type": "markdown",
   "metadata": {},
   "source": [
    "#### 45. Array Addition"
   ]
  },
  {
   "cell_type": "code",
   "execution_count": null,
   "metadata": {
    "collapsed": true
   },
   "outputs": [],
   "source": [
    "def ArrayAdditionI(arr): \n",
    "\n",
    "    maxi = max(arr)\n",
    "    arr.remove(maxi)\n",
    "    for i in range(1, 2**len(arr)):\n",
    "        summe = 0\n",
    "        for j in range(0, len(arr) ):\n",
    "            if i % 2**(j + 1) >= 2**j:\n",
    "                summe = summe + arr[j]\n",
    "        if summe == maxi:\n",
    "            return \"true\"\n",
    "    return \"false\"\n",
    "    \n",
    "# keep this function call here  \n",
    "print ArrayAdditionI(raw_input()) "
   ]
  },
  {
   "cell_type": "markdown",
   "metadata": {},
   "source": [
    "#### 46 Letter Count"
   ]
  },
  {
   "cell_type": "code",
   "execution_count": null,
   "metadata": {},
   "outputs": [],
   "source": [
    "def LetterCountI(str): \n",
    "  \n",
    "  # list of words\n",
    "  words = str.split(\" \")\n",
    "  \n",
    "  # the table that will contain each word with a key and value pair\n",
    "  # being the characters and the number of times they appeared\n",
    "  # e.g. {hello: {h: 1, e: 1, l: 2, o: 1}}\n",
    "  table = {}\n",
    "  \n",
    "  for i in range(0, len(words)):\n",
    "    \n",
    "    # create new entry in table with the key \n",
    "    # being this word\n",
    "    thisWord = words[i]\n",
    "    table[thisWord] = {}\n",
    "    \n",
    "    # create a key/value pair that will store\n",
    "    # the highest letter count for each word\n",
    "    table[thisWord][\"highest\"] = 0\n",
    "    \n",
    "    # loop through each character in word and\n",
    "    # store number of times each letter appears\n",
    "    for c in range(0, len(words[i])):\n",
    "      \n",
    "      # see if this character already exists in table for\n",
    "      # this word: if so add 1 to the count, if not set count = 1\n",
    "      thisChar = thisWord[c]\n",
    "      if thisChar in table[thisWord]:\n",
    "        table[thisWord][thisChar] += 1\n",
    "      else:\n",
    "        table[thisWord][thisChar] = 1\n",
    "        \n",
    "      # update the highest letter count for each \n",
    "      # new letter in the iteration\n",
    "      if table[thisWord][thisChar] > table[thisWord][\"highest\"]:\n",
    "        table[thisWord][\"highest\"] = table[thisWord][thisChar]\n",
    "        \n",
    "    # setup a new object that will store the word\n",
    "    # with the highest number of repeating characters\n",
    "    answer = {\"word\": '', \"count\": 1}\n",
    "    \n",
    "    # now determine what word has the highest number \n",
    "    # of repeating letters by accessing the \"highest\"\n",
    "    # property of each word in the table\n",
    "    for w in table:\n",
    "      if table[w][\"highest\"] > answer[\"count\"]:\n",
    "        answer[\"count\"] = table[w][\"highest\"]\n",
    "        answer[\"word\"] = w\n",
    "      \n",
    "  if answer[\"count\"] == 1:\n",
    "    return -1\n",
    "  else:\n",
    "    return answer[\"word\"]\n",
    " \n",
    "print LetterCountI(\"world hello from coderbyte\")"
   ]
  },
  {
   "cell_type": "markdown",
   "metadata": {},
   "source": [
    "#### 47 Second Great Low"
   ]
  },
  {
   "cell_type": "code",
   "execution_count": null,
   "metadata": {
    "collapsed": true
   },
   "outputs": [],
   "source": [
    "def SecondGreatLow(arr): \n",
    "\n",
    "    # uniqur list\n",
    "    unique = set(arr)\n",
    "    sortedList  = sorted(unique)\n",
    "\n",
    "\n",
    "    if len(sortedList) < 2:\n",
    "        return(str(sortedList[0]) + \" \" + str(sortedList[0]))\n",
    "    else:\n",
    "        return(str(sortedList[1]) + \" \" + str(sortedList[len(sortedList)-2]))\n",
    "    \n",
    "# keep this function call here  \n",
    "print SecondGreatLow(raw_input())  "
   ]
  },
  {
   "cell_type": "markdown",
   "metadata": {},
   "source": [
    "#### 48. Division Stringified"
   ]
  },
  {
   "cell_type": "code",
   "execution_count": null,
   "metadata": {
    "collapsed": true
   },
   "outputs": [],
   "source": [
    "def DivisionStringified(num1,num2): \n",
    "\n",
    "    # code goes here \n",
    "    myvalue = round(num1/num2)\n",
    "    div = list(str(int(myvalue)))\n",
    "    insert = 0\n",
    "    \n",
    "    for i,e in reversed(list(enumerate(div))):\n",
    "        insert = insert + 1\n",
    "        if insert == 3:\n",
    "            div[i] = ',' + e\n",
    "            insert = 0\n",
    "\n",
    "    return(''.join(div))\n",
    "    #return num1\n",
    "    \n",
    "# keep this function call here  \n",
    "print DivisionStringified(raw_input())  "
   ]
  },
  {
   "cell_type": "markdown",
   "metadata": {},
   "source": [
    "#### 49. Counting Minutes"
   ]
  },
  {
   "cell_type": "code",
   "execution_count": null,
   "metadata": {},
   "outputs": [],
   "source": [
    "def CountingMinutesI(str): \n",
    "\n",
    "    # code goes here \n",
    "    times = str.split(\"-\")\n",
    "\n",
    "    start_hour = int(times[0].split(\":\")[0])\n",
    "    start_minute = int(times[0].split(\":\")[1][:2])\n",
    "    start = times[0][len(times[0])-2:]\n",
    "    \n",
    "    stop_hour = int(times[1].split(\":\")[0])\n",
    "    stop_minute = int(times[1].split(\":\")[1][:2])\n",
    "    stop = times[1][len(times[1])-2:]\n",
    "\n",
    "    minutes = 60 - start_minute + stop_minute\n",
    "\n",
    "    if stop == start:\n",
    "            if start_hour < stop_hour:\n",
    "                minutes = minutes + 60 * (stop_hour - start_hour - 1)\n",
    "            elif start_hour == stop_hour and start_minute < stop_minute:\n",
    "                minutes = minutes -60     \n",
    "            else:\n",
    "                minutes = minutes + 60* (23 + stop_hour - start_hour) \n",
    "    else:\n",
    "        minutes = minutes + 60* (11 + stop_hour - start_hour)\n",
    "            \n",
    "    return minutes\n",
    "     \n",
    "# keep this function call here  \n",
    "print CountingMinutesI(raw_input())  "
   ]
  },
  {
   "cell_type": "markdown",
   "metadata": {},
   "source": [
    "#### 50. Mean Mode"
   ]
  },
  {
   "cell_type": "code",
   "execution_count": null,
   "metadata": {},
   "outputs": [],
   "source": [
    "def MeanMode(arr): \n",
    "\n",
    "    # code goes here \n",
    "    sum = 0\n",
    "    for i in range(0,len(arr)):\n",
    "        sum = sum + arr[i]\n",
    "\n",
    "    mean = sum/len(arr)\n",
    "\n",
    "    table = {}\n",
    "    for i in range(0, len(arr)):\n",
    "        number = arr[i]\n",
    "        if number in table:\n",
    "            table[number] += 1\n",
    "        else:\n",
    "            table[number] = 1\n",
    "\n",
    "    # setup a new dictionary that will store the number with the highest count\n",
    "    answer = {\"number\": '', \"count\": 0}\n",
    "\n",
    "    for n in table:\n",
    "        if (table[n] > answer[\"count\"]):\n",
    "            answer[\"count\"] = table[n]\n",
    "            answer[\"number\"] = n\n",
    "\n",
    "    if answer[\"number\"] == mean:\n",
    "        return 1\n",
    "    else:\n",
    "        return 0\n",
    "    \n",
    "# keep this function call here  \n",
    "print MeanMode(raw_input())  "
   ]
  },
  {
   "cell_type": "markdown",
   "metadata": {},
   "source": [
    "#### 51. Dash Insert"
   ]
  },
  {
   "cell_type": "code",
   "execution_count": null,
   "metadata": {},
   "outputs": [],
   "source": [
    "def DashInsert(str): \n",
    "\n",
    "    # code goes here \n",
    "    str2 = list(str)\n",
    "\n",
    "    for i in range(0, len(str2)-1):\n",
    "        if (int(str2[i])%2 != 0 and int(str2[i+1])%2 != 0):\n",
    "            str2[i] = str2[i] + '-'\n",
    "\n",
    "    return(''.join(str2))\n",
    "    \n",
    "# keep this function call here  \n",
    "print DashInsert(raw_input())  "
   ]
  },
  {
   "cell_type": "markdown",
   "metadata": {},
   "source": [
    "#### 52. Swap Case"
   ]
  },
  {
   "cell_type": "code",
   "execution_count": null,
   "metadata": {},
   "outputs": [],
   "source": [
    "def SwapCase(str): \n",
    "\n",
    "    mystring = list(str)\n",
    "\n",
    "    for i in range(0, len(mystring)):\n",
    "        if mystring[i].isalpha():\n",
    "            if mystring[i] == mystring[i].upper():\n",
    "                mystring[i] = mystring[i].lower()\n",
    "            elif mystring[i] == mystring[i].lower():\n",
    "                mystring[i] = mystring[i].upper()\n",
    "\n",
    "    return(''.join(mystring))    \n",
    "    \n",
    "# keep this function call here  \n",
    "print SwapCase(raw_input())         "
   ]
  },
  {
   "cell_type": "markdown",
   "metadata": {},
   "source": [
    "#### 53. Number Addition"
   ]
  },
  {
   "cell_type": "code",
   "execution_count": null,
   "metadata": {},
   "outputs": [],
   "source": [
    "def NumberAddition(str): \n",
    "\n",
    "    # code goes here \n",
    "    import re\n",
    "    myNumbers = re.findall('\\d+',str)\n",
    "\n",
    "    sum = 0\n",
    "    for i in range(0, len(myNumbers)):\n",
    "        sum = sum + int(myNumbers[i])\n",
    "    \n",
    "    return(sum)\n",
    "    \n",
    "# keep this function call here  \n",
    "print NumberAddition(raw_input())"
   ]
  },
  {
   "cell_type": "markdown",
   "metadata": {},
   "source": [
    "#### 54 Third Greatest"
   ]
  },
  {
   "cell_type": "code",
   "execution_count": null,
   "metadata": {},
   "outputs": [],
   "source": [
    "def ThirdGreatest(strArr): \n",
    "\n",
    "    # code goes here \n",
    "    return sorted(strArr, key = len, reverse = True)[2]\n",
    "    \n",
    "# keep this function call here  \n",
    "print ThirdGreatest(raw_input())  "
   ]
  },
  {
   "cell_type": "markdown",
   "metadata": {},
   "source": [
    "#### 55. Power of Two"
   ]
  },
  {
   "cell_type": "code",
   "execution_count": null,
   "metadata": {},
   "outputs": [],
   "source": [
    "def PowersofTwo(num): \n",
    "\n",
    "    # code goes here \n",
    "    power = 0\n",
    "    counter = 1\n",
    "  \n",
    "    while power < num:\n",
    "        power = pow(2, counter)\n",
    "        counter += 1\n",
    "    \n",
    "    if power == num:\n",
    "        return \"true\"\n",
    "    else:\n",
    "        return \"false\"\n",
    "    \n",
    "# keep this function call here  \n",
    "print PowersofTwo(raw_input())  "
   ]
  },
  {
   "cell_type": "markdown",
   "metadata": {},
   "source": [
    "#### 56. Additive Persistence"
   ]
  },
  {
   "cell_type": "code",
   "execution_count": null,
   "metadata": {
    "collapsed": true
   },
   "outputs": [],
   "source": [
    "def AdditivePersistence(num): \n",
    "\n",
    "    # code goes here \n",
    "    mylist = list(str(num))\n",
    "\n",
    "    while len(mylist) > 1:\n",
    "        added = 0\n",
    "        for i in range(0, len(mylist)):\n",
    "            added = added + int(mylist[i])\n",
    "        return 1 + AdditivePersistence(added)\n",
    "    return 0\n",
    "# keep this function call here  \n",
    "print AdditivePersistence(raw_input()) "
   ]
  },
  {
   "cell_type": "markdown",
   "metadata": {},
   "source": [
    "#### 57. Mulriplicative Persistance"
   ]
  },
  {
   "cell_type": "code",
   "execution_count": null,
   "metadata": {
    "collapsed": true
   },
   "outputs": [],
   "source": [
    "def MultiplicativePersistence(num): \n",
    "\n",
    "    # code goes here \n",
    "    # code goes here \n",
    "    mylist = list(str(num))\n",
    "\n",
    "    while len(mylist) >1:\n",
    "        multiply = 1\n",
    "        for i in range(0, len(mylist)):\n",
    "            multiply = multiply * int(mylist[i])\n",
    "        return 1 + MultiplicativePersistence(multiply)\n",
    "    return 0\n",
    "    \n",
    "# keep this function call here  \n",
    "print MultiplicativePersistence(raw_input())  "
   ]
  },
  {
   "cell_type": "markdown",
   "metadata": {},
   "source": [
    "#### 58. Off Line Minimum"
   ]
  },
  {
   "cell_type": "code",
   "execution_count": null,
   "metadata": {
    "collapsed": true
   },
   "outputs": [],
   "source": [
    "def OffLineMinimum(strArr): \n",
    "\n",
    "    # code goes here \n",
    "    nums = []\n",
    "    output = []\n",
    "\n",
    "    for i in range(0,len(strArr)):\n",
    "        if strArr[i] != 'E':\n",
    "            nums.append(strArr[i])\n",
    "        else:\n",
    "            smallest = min(nums)\n",
    "            nums.remove(smallest)\n",
    "            output.append(str(smallest))\n",
    "        \n",
    "    return (','.join(output))\n",
    "    \n",
    "# keep this function call here  \n",
    "print OffLineMinimum(raw_input())  "
   ]
  },
  {
   "cell_type": "markdown",
   "metadata": {},
   "source": [
    "#### 59. Changing Sequence"
   ]
  },
  {
   "cell_type": "code",
   "execution_count": null,
   "metadata": {},
   "outputs": [],
   "source": [
    "def ChangingSequence(arr): \n",
    "\n",
    "    # code goes here \n",
    "    flag = False\n",
    "    num = 0\n",
    "    for i in range(0,len(arr)-1):\n",
    "        if i != 0 or i != len(arr)-1:\n",
    "            if arr[i] > arr[i-1] and arr[i] > arr[i+1]:\n",
    "                num = i+1\n",
    "\n",
    "    if num != 0:\n",
    "        return(num)\n",
    "    else:\n",
    "        return(-1)\n",
    "    \n",
    "# keep this function call here  \n",
    "print ChangingSequence(raw_input())"
   ]
  },
  {
   "cell_type": "markdown",
   "metadata": {},
   "source": [
    "#### 60. Overlapping Ranges"
   ]
  },
  {
   "cell_type": "code",
   "execution_count": null,
   "metadata": {},
   "outputs": [],
   "source": [
    "def OverlappingRanges(arr): \n",
    "\n",
    "    # code goes here \n",
    "    range1 = list(range(arr[0],arr[1]+1))\n",
    "    range2 = list(range(arr[2],arr[3]+1))\n",
    "    #print(range1)\n",
    "    #print(range2)\n",
    "    #print(arr[4])\n",
    "    count = 0\n",
    "\n",
    "    for i in (0, len(range1)-1):\n",
    "        for j in (0, len(range2)-1):\n",
    "            if range1[i] == range2[j]:\n",
    "                count = count + 1\n",
    "\n",
    "    #print(count)\n",
    "    if count >= arr[4]:\n",
    "        return(\"True\")\n",
    "    else:\n",
    "        return(\"False\")\n",
    "    \n",
    "# keep this function call here  \n",
    "print OverlappingRanges(raw_input())  "
   ]
  },
  {
   "cell_type": "code",
   "execution_count": null,
   "metadata": {},
   "outputs": [],
   "source": [
    "# code goes here \n",
    "arr = [4,10,2,6,3]\n",
    "range1 = list(range(arr[0],arr[1]+1))\n",
    "range2 = list(range(arr[2],arr[3]+1))\n",
    "print(range1)\n",
    "print(range2)\n",
    "print(arr[4])\n",
    "count = 0\n",
    "\n",
    "for i in (0, len(range1)-1):\n",
    "    for j in (0, len(range2)-1):\n",
    "        if range1[i] == range2[j]:\n",
    "            count = count + 1\n",
    "\n",
    "print(count)\n",
    "if count >= arr[4]:\n",
    "    print(\"True\")\n",
    "else:\n",
    "    print(\"False\")"
   ]
  },
  {
   "cell_type": "markdown",
   "metadata": {
    "collapsed": true
   },
   "source": [
    "#### 61. Duplicates in an array"
   ]
  },
  {
   "cell_type": "code",
   "execution_count": null,
   "metadata": {},
   "outputs": [],
   "source": [
    "arr = [1,2,3,3,4,5,6,6,7,8,9,9]\n",
    "\n",
    "dups = [x for x in arr if arr.count(x) > 1]\n",
    "print(list(set(dups)))"
   ]
  },
  {
   "cell_type": "markdown",
   "metadata": {},
   "source": [
    "#### 62. Delete Duplicates from a list"
   ]
  },
  {
   "cell_type": "code",
   "execution_count": null,
   "metadata": {},
   "outputs": [],
   "source": [
    "def duplicates(arr):\n",
    "    #arr = [1,2,3,3,4,5,6,6,7,8,9,9]\n",
    "\n",
    "    arr_2 = []\n",
    "    for i in arr:\n",
    "        if i not in arr_2:\n",
    "            arr_2.append(i)\n",
    "    return(arr_2)\n",
    "\n",
    "print(duplicates([1,2,3,3,4,5,6,6,7,8,9,9]))"
   ]
  },
  {
   "cell_type": "markdown",
   "metadata": {},
   "source": [
    "#### 63. Number of words from a string"
   ]
  },
  {
   "cell_type": "code",
   "execution_count": null,
   "metadata": {},
   "outputs": [],
   "source": [
    "str = \"School of Information Studies Syracuse University\"\n",
    "\n",
    "str_list = str.split(' ')\n",
    "print(len(str_list))"
   ]
  },
  {
   "cell_type": "markdown",
   "metadata": {},
   "source": [
    "#### 64. Substring from a string"
   ]
  },
  {
   "cell_type": "code",
   "execution_count": null,
   "metadata": {},
   "outputs": [],
   "source": [
    "def substringsearch(str,find_str):\n",
    "\n",
    "    if str.find(find_str) == -1:\n",
    "        return(\"Alert!!! Not Found\")\n",
    "    else:\n",
    "        return(\"Found\")\n",
    "    \n",
    "print(substringsearch(\"School of Information Studies Syracuse University\",\"Syracuse University\"))"
   ]
  },
  {
   "cell_type": "code",
   "execution_count": null,
   "metadata": {},
   "outputs": [],
   "source": [
    "# count number of times substring occurs\n",
    "\n",
    "import re\n",
    "str1 = \"School of Information Studies Syracuse University Syracuse University\"\n",
    "find_str = \"Syracuse University\"\n",
    "\n",
    "print(len(re.findall(find_str,str1)))"
   ]
  },
  {
   "cell_type": "markdown",
   "metadata": {},
   "source": [
    "#### 65. Unique words in a string"
   ]
  },
  {
   "cell_type": "code",
   "execution_count": null,
   "metadata": {},
   "outputs": [],
   "source": [
    "def uniquewords(str):\n",
    "\n",
    "    str_split = str.split(\" \")\n",
    "\n",
    "    str_new = []\n",
    "    for i in str_split:\n",
    "        if i not in  str_new:\n",
    "            str_new.append(i)\n",
    "\n",
    "    return(str_new)\n",
    "\n",
    "print(uniquewords(\"My name is XYZ ABC and my sister's name is DEF XYZ\"))"
   ]
  },
  {
   "cell_type": "markdown",
   "metadata": {},
   "source": [
    "#### 66. Super Increasing"
   ]
  },
  {
   "cell_type": "code",
   "execution_count": null,
   "metadata": {},
   "outputs": [],
   "source": [
    "def Superincreasing(arr):\n",
    "\n",
    "    sum = 0\n",
    "    flag = True\n",
    "    for i in arr:\n",
    "        if sum >= i:\n",
    "            flag = False\n",
    "        sum = sum + i\n",
    "\n",
    "    return(flag)\n",
    "\n",
    "# keep the function call here\n",
    "print(Superincreasing([0,2,3,10,11,50,200]))"
   ]
  },
  {
   "cell_type": "markdown",
   "metadata": {},
   "source": [
    "#### 67. Hamming Distance"
   ]
  },
  {
   "cell_type": "code",
   "execution_count": null,
   "metadata": {},
   "outputs": [],
   "source": [
    "def HammingDistance(strarr):\n",
    "    \n",
    "    count = 0\n",
    "    for i in range(0,len(strArr[0])):\n",
    "        if strArr[0][i] != strArr[1][i]:\n",
    "            count += 1\n",
    "\n",
    "    return(count)\n",
    "\n",
    "print(HammingDistance(((\"10011\", \"10100\"))))"
   ]
  },
  {
   "cell_type": "markdown",
   "metadata": {},
   "source": [
    "#### 68. Bitwise One"
   ]
  },
  {
   "cell_type": "code",
   "execution_count": null,
   "metadata": {},
   "outputs": [],
   "source": [
    "def BitwiseOne(strArr): \n",
    "\n",
    "    # code goes here \n",
    "    str_final = []\n",
    "    for i in range(0,len(strArr[0])):\n",
    "        if strArr[0][i] == '1' or strArr[1][i] == '1':\n",
    "            str_final.append('1')\n",
    "        else:\n",
    "            str_final.append('0')\n",
    "\n",
    "    return(''.join(str_final))\n",
    "    \n",
    "# keep this function call here  \n",
    "print(BitwiseOne((\"00011\", \"01010\")))"
   ]
  },
  {
   "cell_type": "markdown",
   "metadata": {},
   "source": [
    "#### 69. Other Products"
   ]
  },
  {
   "cell_type": "code",
   "execution_count": null,
   "metadata": {
    "collapsed": true
   },
   "outputs": [],
   "source": [
    "def OtherProducts(arr): \n",
    "\n",
    "    # code goes here \n",
    "    result = []\n",
    "    for index in range(len(arr)):\n",
    "        product = 1\n",
    "        for n in range(len(arr)):\n",
    "            if n == index:\n",
    "                continue\n",
    "            product*= arr[n]\n",
    "        result.append(product)\n",
    "        \n",
    "    return \"-\".join([str(i) for i in result])\n",
    "    \n",
    "# keep this function call here  \n",
    "print OtherProducts(raw_input())  "
   ]
  },
  {
   "cell_type": "markdown",
   "metadata": {},
   "source": [
    "#### 70.  Number of times a word appear in a sentence"
   ]
  },
  {
   "cell_type": "code",
   "execution_count": null,
   "metadata": {},
   "outputs": [],
   "source": [
    "str1 = \"My name is ABC and my sister's name is XYZ ABC\"\n",
    "find_value = \"ABC\"\n",
    "\n",
    "stringvalue = str1.split(\" \")\n",
    "stringvalue.count(find_value)"
   ]
  },
  {
   "cell_type": "markdown",
   "metadata": {},
   "source": [
    "#### 71. Return tuples of a list, matching each item to another item"
   ]
  },
  {
   "cell_type": "code",
   "execution_count": null,
   "metadata": {},
   "outputs": [],
   "source": [
    "TupList = [('ABC D','235'),('EFG H','462')]\n",
    "if ('ABC D','235') in TupList:\n",
    "    print (TupList.index(('EFG H','462')))"
   ]
  },
  {
   "cell_type": "markdown",
   "metadata": {},
   "source": [
    "#### 72. Count the frequency of words from the list and store the results in a hash map"
   ]
  },
  {
   "cell_type": "code",
   "execution_count": null,
   "metadata": {},
   "outputs": [],
   "source": [
    "str1 = \"School of Information Studies Syracuse University Syracuse University\"\n",
    "\n",
    "strsplit = str1.split(\" \")\n",
    "print(strsplit)\n",
    "\n",
    "dict1 = {}\n",
    "\n",
    "for i in range(0,len(strsplit)):\n",
    "    thisword = strsplit[i]\n",
    "    print(thisword)\n",
    "    if strsplit[i] in dict1:\n",
    "        dict1[thisword] += 1\n",
    "    else:\n",
    "        dict1[thisword] = 1\n",
    "    \n",
    "print(dict1)        "
   ]
  },
  {
   "cell_type": "code",
   "execution_count": null,
   "metadata": {},
   "outputs": [],
   "source": [
    "str1 = \"My name is XYZ and my sister's name is ABC\"\n",
    "str2 = \"XYZ\"\n",
    "\n",
    "strsplit = str1.split(\" \")\n",
    "print(len(strsplit))\n",
    "print(strsplit)\n",
    "\n",
    "dict1 = {}\n",
    "\n",
    "for i in range(0,len(strsplit)):\n",
    "    thisword = strsplit[i]\n",
    "    print(thisword)\n",
    "    if strsplit[i] in dict1:\n",
    "        dict1[thisword] += 1\n",
    "    else:\n",
    "        dict1[thisword] = 1\n",
    "    \n",
    "print(dict1)\n",
    "print(dict1[str2]) "
   ]
  },
  {
   "cell_type": "markdown",
   "metadata": {
    "collapsed": true
   },
   "source": [
    "#### 73. Valid Ip Address"
   ]
  },
  {
   "cell_type": "code",
   "execution_count": null,
   "metadata": {},
   "outputs": [],
   "source": [
    "def is_valid_ip(ip):\n",
    "    \"\"\"Validates IP addresses.\n",
    "    \"\"\"\n",
    "    return is_valid_ipv4(ip) or is_valid_ipv6(ip)\n",
    "\n",
    "print(is_valid_ip('127.0.0.0'))"
   ]
  }
 ],
 "metadata": {
  "kernelspec": {
   "display_name": "Python 3",
   "language": "python",
   "name": "python3"
  },
  "language_info": {
   "codemirror_mode": {
    "name": "ipython",
    "version": 3
   },
   "file_extension": ".py",
   "mimetype": "text/x-python",
   "name": "python",
   "nbconvert_exporter": "python",
   "pygments_lexer": "ipython3",
   "version": "3.6.1"
  }
 },
 "nbformat": 4,
 "nbformat_minor": 2
}
