{
 "cells": [
  {
   "cell_type": "markdown",
   "metadata": {},
   "source": [
    "#### Capital indexes"
   ]
  },
  {
   "cell_type": "markdown",
   "metadata": {},
   "source": [
    "Write a function named capital_indexes. The function takes a single parameter, which is a string. Your function should return a list of all the indexes in the string that have capital letters.\n",
    "\n",
    "For example, calling capital_indexes(\"HeLlO\") should return the list [0, 2, 4]."
   ]
  },
  {
   "cell_type": "code",
   "execution_count": null,
   "metadata": {
    "collapsed": true
   },
   "outputs": [],
   "source": [
    "def capital_indexes(str):\n",
    "    list = []\n",
    "    for i in range(len(str)):\n",
    "        if str[i].isupper():\n",
    "            list.append(i)\n",
    "            \n",
    "    return (list)"
   ]
  },
  {
   "cell_type": "code",
   "execution_count": null,
   "metadata": {
    "collapsed": true
   },
   "outputs": [],
   "source": [
    "# naive solution\n",
    "def capital_indexes(s):\n",
    "    upper = \"ABCDEFGHIJKLMNOPQRSTUVWXYZ\"\n",
    "    result = []\n",
    "    for i, l in enumerate(s):\n",
    "        if l in upper:\n",
    "            result.append(i)\n",
    "    return result\n",
    "\n",
    "# shorter version\n",
    "from string import uppercase\n",
    "def capital_indexes(s):\n",
    "    return [i for i in range(len(s)) if s[i] in uppercase]\n",
    "\n",
    "# you can also use the .isupper() string method."
   ]
  },
  {
   "cell_type": "markdown",
   "metadata": {},
   "source": [
    "#### Middle letter"
   ]
  },
  {
   "cell_type": "markdown",
   "metadata": {},
   "source": [
    "Write a function named mid that takes a string as its parameter. Your function should extract and return the middle letter. If there is no middle letter, your function should return the empty string.\n",
    "\n",
    "For example, mid(\"abc\") should return \"b\" and mid(\"aaaa\") should return \"\""
   ]
  },
  {
   "cell_type": "code",
   "execution_count": null,
   "metadata": {},
   "outputs": [],
   "source": [
    "def mid(str):\n",
    "    \n",
    "    import math\n",
    "    if len(str)%2 != 0:\n",
    "        return (str[math.floor(len(str)/2)])\n",
    "    else:\n",
    "        return (\"\")"
   ]
  },
  {
   "cell_type": "code",
   "execution_count": null,
   "metadata": {
    "collapsed": true
   },
   "outputs": [],
   "source": [
    "# this approach uses // which is integer division in Python 3\n",
    "# alternatively, use / and int() in combination.\n",
    "def mid(string):\n",
    "    if len(string) % 2 == 0:\n",
    "        return \"\""
   ]
  },
  {
   "cell_type": "markdown",
   "metadata": {},
   "source": [
    "#### Online status"
   ]
  },
  {
   "cell_type": "markdown",
   "metadata": {},
   "source": [
    "The aim of this challenge is, given a dictionary of people's online status, to count the number of people who are online.\n",
    "\n",
    "For example, consider the following dictionary:\n",
    "\n",
    "statuses = {\n",
    "    \"Alice\": \"online\",\n",
    "    \"Bob\": \"offline\",\n",
    "    \"Eve\": \"online\",\n",
    "}\n",
    "In this case, the number of people online is 2.\n",
    "\n",
    "Write a function named online_count that takes one parameter. The parameter is a dictionary that maps from strings of names to the string \"online\" or \"offline\", as seen above.\n",
    "\n",
    "Your function should return the number of people who are online."
   ]
  },
  {
   "cell_type": "code",
   "execution_count": null,
   "metadata": {
    "collapsed": true
   },
   "outputs": [],
   "source": [
    "def online_count(dict):\n",
    "    return(sum([1 for i in dict.keys() if dict[i] == 'online']))"
   ]
  },
  {
   "cell_type": "code",
   "execution_count": null,
   "metadata": {
    "collapsed": true
   },
   "outputs": [],
   "source": [
    "# long version\n",
    "def online_count(people):\n",
    "    count = 0\n",
    "    for person, status in people.items():\n",
    "        if status == \"online\":\n",
    "            count += 1\n",
    "    return count\n",
    "\n",
    "# short version\n",
    "def online_count(people):\n",
    "    return len([p for p in people if people[p] == \"online\"])"
   ]
  },
  {
   "cell_type": "markdown",
   "metadata": {},
   "source": [
    "#### Randomness"
   ]
  },
  {
   "cell_type": "markdown",
   "metadata": {},
   "source": [
    "Define a function, random_number, that takes no parameters. The function must generate a random integer between 1 and 100, both inclusive, and return it.\n",
    "\n",
    "Calling the function multiple times should (usually) return different numbers.\n",
    "\n",
    "For example, calling random_number() some times might first return 42, then 63, then 1."
   ]
  },
  {
   "cell_type": "code",
   "execution_count": null,
   "metadata": {
    "collapsed": true
   },
   "outputs": [],
   "source": [
    "def random_number():\n",
    "    from random import randint\n",
    "    return (randint(1,100))"
   ]
  },
  {
   "cell_type": "markdown",
   "metadata": {},
   "source": [
    "#### Type Check"
   ]
  },
  {
   "cell_type": "markdown",
   "metadata": {},
   "source": [
    "Write a function named only_ints that takes two parameters. Your function should return True if both parameters are integers, and False otherwise.\n",
    "\n",
    "For example, calling only_ints(1, 2) should return True, while calling only_ints(\"a\", 1) should return False."
   ]
  },
  {
   "cell_type": "code",
   "execution_count": null,
   "metadata": {},
   "outputs": [],
   "source": [
    "def only_ints(a,b):\n",
    "    if type(a) == 'int' and type(b) == 'int':\n",
    "        return (True)\n",
    "    else:\n",
    "        return (False)"
   ]
  },
  {
   "cell_type": "code",
   "execution_count": null,
   "metadata": {},
   "outputs": [],
   "source": [
    "a = 1\n",
    "b = 3\n",
    "c = 6\n",
    "if type(a) == 'int' and type(a) == type(b):\n",
    "    print (True)\n",
    "else:\n",
    "    print (False)\n",
    "    \n",
    "print(type(b))\n",
    "\n",
    "print(type(a))\n",
    "\n",
    "type(a)\n",
    "type(c)"
   ]
  },
  {
   "cell_type": "markdown",
   "metadata": {},
   "source": [
    "#### Double Letters"
   ]
  },
  {
   "cell_type": "markdown",
   "metadata": {},
   "source": [
    "The goal of this challenge is to analyze a string to check if it contains two of the same letter in a row. For example, the string \"hello\" has l twice in a row, while the string \"nono\" does not have two identical letters in a row.\n",
    "\n",
    "Define a function named double_letters that takes a single parameter. The parameter is a string. Your function must return True if there are two identical letters in a row in the string, and False otherwise."
   ]
  },
  {
   "cell_type": "code",
   "execution_count": null,
   "metadata": {
    "collapsed": true
   },
   "outputs": [],
   "source": [
    "def double_letters(str):\n",
    "    for i in range(0,len(str)-1):\n",
    "        if str[i] == str[i+1]:\n",
    "            return (True)\n",
    "    \n",
    "    return (False)"
   ]
  },
  {
   "cell_type": "code",
   "execution_count": null,
   "metadata": {
    "collapsed": true
   },
   "outputs": [],
   "source": [
    "def double_letters(str):\n",
    "    return any([ a == b for a,b in zip(str, str[1:])])"
   ]
  },
  {
   "cell_type": "markdown",
   "metadata": {},
   "source": [
    "#### Adding and removing dots"
   ]
  },
  {
   "cell_type": "markdown",
   "metadata": {},
   "source": [
    "Write a function named add_dots that takes a string and adds \".\" in between each letter. For example, calling add_dots(\"test\") should return the string \"t.e.s.t\".\n",
    "\n",
    "Then, below the add_dots function, write another function named remove_dots that removes all dots from a string. For example, calling remove_dots(\"t.e.s.t\") should return \"test\".\n",
    "\n",
    "If both functions are correct, calling remove_dots(add_dots(string)) should return back the original string for any string.\n",
    "\n",
    "(You may assume that the input to add_dots does not itself contain any dots.)"
   ]
  },
  {
   "cell_type": "code",
   "execution_count": null,
   "metadata": {
    "collapsed": true
   },
   "outputs": [],
   "source": [
    "# the longer way\n",
    "def add_dots(s):\n",
    "    out = \"\"\n",
    "    for letter in s:\n",
    "        out += letter + \".\"\n",
    "    return out[:-1]\n",
    "\n",
    "def remove_dots(s):\n",
    "    out = \"\"\n",
    "    for letter in s:\n",
    "        if letter != \".\":\n",
    "            out += letter\n",
    "    return out"
   ]
  },
  {
   "cell_type": "code",
   "execution_count": null,
   "metadata": {
    "collapsed": true
   },
   "outputs": [],
   "source": [
    "# the short way\n",
    "def add_dots(s):\n",
    "    return \".\".join(s)\n",
    "\n",
    "def remove_dots(s):\n",
    "    return s.replace(\".\", \"\")"
   ]
  },
  {
   "cell_type": "markdown",
   "metadata": {},
   "source": [
    "#### Counting syllables"
   ]
  },
  {
   "cell_type": "markdown",
   "metadata": {},
   "source": [
    "Define a function named count that takes a single parameter. The parameter is a string. The string will contain a single word divided into syllables by hyphens, such as these:\n",
    "\n",
    "\"ho-tel\"\n",
    "\"cat\"\n",
    "\"met-a-phor\"\n",
    "\"ter-min-a-tor\"\n",
    "Your function should count the number of syllables and return it.\n",
    "\n",
    "For example, the call count(\"ho-tel\") should return 2."
   ]
  },
  {
   "cell_type": "code",
   "execution_count": null,
   "metadata": {
    "collapsed": true
   },
   "outputs": [],
   "source": [
    "# naive solution\n",
    "def count(word):\n",
    "    syllables = 1\n",
    "    for letter in word:\n",
    "        if letter == \"-\":\n",
    "            syllables = syllables + 1\n",
    "    return syllables\n",
    "\n",
    "# using the count method\n",
    "def count(word):\n",
    "    return word.count(\"-\") + 1\n",
    "\n",
    "# using split\n",
    "def count(word):\n",
    "    return len(word.split(\"-\"))"
   ]
  },
  {
   "cell_type": "markdown",
   "metadata": {},
   "source": [
    "#### Anagrams"
   ]
  },
  {
   "cell_type": "markdown",
   "metadata": {},
   "source": [
    "Write a function named only_ints that takes two parameters. Your function should return True if both parameters are integers, and False otherwise.\n",
    "\n",
    "For example, calling only_ints(1, 2) should return True, while calling only_ints(\"a\", 1) should return False."
   ]
  },
  {
   "cell_type": "code",
   "execution_count": null,
   "metadata": {},
   "outputs": [],
   "source": [
    "def is_anagram(a,b):\n",
    "    from collections import Counter\n",
    "    return ( True if Counter(a) == Counter(b) else False)"
   ]
  },
  {
   "cell_type": "code",
   "execution_count": null,
   "metadata": {
    "collapsed": true
   },
   "outputs": [],
   "source": [
    "# easy solution\n",
    "def is_anagram(string1, string2):\n",
    "    return sorted(string1) == sorted(string2)\n",
    "\n",
    "# harder solution:\n",
    "# count how many times each letter appears in each string,\n",
    "# and make sure all the counts are the same.\n",
    "def count_letters(string):\n",
    "    return {l: string.count(l) for l in string}\n",
    "def is_anagram(string1, string2):\n",
    "    return count_letters(string1) == count_letters(string2)"
   ]
  },
  {
   "cell_type": "markdown",
   "metadata": {},
   "source": [
    "#### Flatten a list"
   ]
  },
  {
   "cell_type": "markdown",
   "metadata": {},
   "source": [
    "Write a function that takes a list of lists and flattens it into a one-dimensional list.\n",
    "\n",
    "Name your function flatten. It should take a single parameter and return a list.\n",
    "\n",
    "For example, calling:\n",
    "\n",
    "flatten([[1, 2], [3, 4]])\n",
    "Should return the list:\n",
    "\n",
    "[1, 2, 3, 4]"
   ]
  },
  {
   "cell_type": "code",
   "execution_count": null,
   "metadata": {
    "collapsed": true
   },
   "outputs": [],
   "source": [
    "def flatten (list):\n",
    "    return ([item for sublist in list for item in sublist])"
   ]
  },
  {
   "cell_type": "code",
   "execution_count": null,
   "metadata": {
    "collapsed": true
   },
   "outputs": [],
   "source": [
    "# naive solution\n",
    "def flatten(outer_list):\n",
    "    result = []\n",
    "    for inner_list in outer_list:\n",
    "        for item in inner_list:\n",
    "            result.append(item)\n",
    "    return result\n",
    "\n",
    "# solution with nested list comprehensions\n",
    "# (can be put on a single line for conciseness)\n",
    "def flatten(outer_list):\n",
    "    return [\n",
    "        item\n",
    "        for inner_list in outer_list\n",
    "        for item in inner_list\n",
    "    ]"
   ]
  },
  {
   "cell_type": "markdown",
   "metadata": {},
   "source": [
    "#### Min-maxing"
   ]
  },
  {
   "cell_type": "markdown",
   "metadata": {},
   "source": [
    "Define a function named largest_difference that takes a list of numbers as its only parameter.\n",
    "\n",
    "Your function should compute and return the difference between the largest and smallest number in the list.\n",
    "\n",
    "For example, the call largest_difference([1, 2, 3]) should return 2 because 3 - 1 is 2.\n",
    "\n",
    "You may assume that no numbers are smaller or larger than -100 and 100."
   ]
  },
  {
   "cell_type": "code",
   "execution_count": null,
   "metadata": {
    "collapsed": true
   },
   "outputs": [],
   "source": [
    "# short solution\n",
    "def largest_difference(numbers):\n",
    "    return max(numbers) - min(numbers)\n",
    "\n",
    "# naive solution\n",
    "def largest_difference(numbers):\n",
    "    smallest = 100\n",
    "    for n in numbers:\n",
    "        if n < smallest:\n",
    "            smallest = n\n",
    "\n",
    "    largest = -100\n",
    "    for n in numbers:\n",
    "        if n > largest:\n",
    "            largest = n\n",
    "\n",
    "    difference = largest - smallest\n",
    "    return difference"
   ]
  },
  {
   "cell_type": "markdown",
   "metadata": {},
   "source": [
    "#### Divisible by 3"
   ]
  },
  {
   "cell_type": "markdown",
   "metadata": {},
   "source": [
    "Define a function named div_3 that returns True if its single integer parameter is divisible by 3 and False otherwise.\n",
    "\n",
    "For example, div_3(6) is True because 6/3 does not leave any remainder. However div_3(5) is False because 5/3 leaves 2 as a remainder."
   ]
  },
  {
   "cell_type": "code",
   "execution_count": null,
   "metadata": {
    "collapsed": true
   },
   "outputs": [],
   "source": [
    "def div_3(number):\n",
    "    return (True if number%3 == 0 else False)"
   ]
  },
  {
   "cell_type": "markdown",
   "metadata": {},
   "source": [
    "#### Tic tac toe input"
   ]
  },
  {
   "cell_type": "markdown",
   "metadata": {},
   "source": [
    "Here's the backstory for this challenge: imagine you're writing a tic-tac-toe game, where the board looks like this:\n",
    "\n",
    "1:  X | O | X\n",
    "   -----------\n",
    "2:    |   |  \n",
    "   -----------\n",
    "3:  O |   |\n",
    "\n",
    "    A   B  C\n",
    "The board is represented as a 2D list:\n",
    "\n",
    "board = [\n",
    "    [\"X\", \"O\", \"X\"],\n",
    "    [\" \", \" \", \" \"],\n",
    "    [\"O\", \" \", \" \"],\n",
    "]\n",
    "Imagine if your user enters \"C1\" and you need to see if there's an X or O in that cell on the board. To do so, you need to translate from the string \"C1\" to row 0 and column 2 so that you can check board[row][column].\n",
    "\n",
    "Your task is to write a function that can translate from strings of length 2 to a tuple (row, column). Name your function get_row_col; it should take a single parameter which is a string of length 2 consisting of an uppercase letter and a digit.\n",
    "\n",
    "For example, calling get_row_col(\"A3\") should return the tuple (2, 0) because A3 corresponds to the row at index 2 and column at index 0in the board."
   ]
  },
  {
   "cell_type": "code",
   "execution_count": null,
   "metadata": {},
   "outputs": [],
   "source": [
    "def get_row_col(str):\n",
    "    dict = {\n",
    "        'A': 0,\n",
    "        'B': 1,\n",
    "        'C': 2\n",
    "    }\n",
    "    \n",
    "    return(int(str[1])-1, dict[str[0]])"
   ]
  },
  {
   "cell_type": "code",
   "execution_count": null,
   "metadata": {
    "collapsed": true
   },
   "outputs": [],
   "source": [
    "def get_row_col(choice):\n",
    "    translate = {\"A\": 0, \"B\": 1, \"C\": 2}\n",
    "    letter = choice[0]\n",
    "    number = choice[1]\n",
    "    row = int(number) - 1\n",
    "    column = translate[letter]\n",
    "    return (row, column)"
   ]
  },
  {
   "cell_type": "markdown",
   "metadata": {},
   "source": [
    "#### Palindrome"
   ]
  },
  {
   "cell_type": "markdown",
   "metadata": {},
   "source": [
    "Palindrome\n",
    "A string is a palindrome when it is the same when read backwards.\n",
    "\n",
    "For example, the string \"bob\" is a palindrome. So is \"abba\". But the string \"abcd\" is not a palindrome, because \"abcd\" != \"dcba\".\n",
    "\n",
    "Write a function named palindrome that takes a single string as its parameter. Your function should return True if the string is a palindrome, and False otherwise."
   ]
  },
  {
   "cell_type": "code",
   "execution_count": null,
   "metadata": {
    "collapsed": true
   },
   "outputs": [],
   "source": [
    "def palindrome(str):\n",
    "    return (str == str[::-1])"
   ]
  },
  {
   "cell_type": "code",
   "execution_count": null,
   "metadata": {
    "collapsed": true
   },
   "outputs": [],
   "source": [
    "# iterative solution:\n",
    "# keep chopping off the head and tail of the string,\n",
    "# and compare the two. If they are not equal, it's\n",
    "# not a palindrome. Stop when the string gets too short.\n",
    "def palindrome(string):\n",
    "    while len(string) > 1:\n",
    "        head = string[0]\n",
    "        tail = string[-1]\n",
    "        string = string[1:-1]\n",
    "        if head != tail:\n",
    "            return False\n",
    "    return True\n",
    "\n",
    "# recursive solution: equivalent to the above.\n",
    "def palindrome(string):\n",
    "    if len(string) < 2:\n",
    "        return True\n",
    "    return string[0] == string[-1] and palindrome(string[1:-1])\n",
    "\n",
    "# smarter solution:\n",
    "# check if reversing the string gives the same string.\n",
    "def palindrome(string):\n",
    "    return string == string[::-1]"
   ]
  },
  {
   "cell_type": "markdown",
   "metadata": {},
   "source": [
    "#### Up and down"
   ]
  },
  {
   "cell_type": "markdown",
   "metadata": {},
   "source": [
    "Define a function named up_down that takes a single number as its parameter. Your function return a tuple containing two numbers; the first should be one lower than the parameter, and the second should be one higher.\n",
    "\n",
    "For example, calling up_down(5) should return (4, 6)."
   ]
  },
  {
   "cell_type": "code",
   "execution_count": null,
   "metadata": {
    "collapsed": true
   },
   "outputs": [],
   "source": [
    "def up_down(number):\n",
    "    return ((number-1,number+1))"
   ]
  },
  {
   "cell_type": "markdown",
   "metadata": {},
   "source": [
    "#### Consecutive zeros"
   ]
  },
  {
   "cell_type": "markdown",
   "metadata": {},
   "source": [
    "The goal of this challenge is to analyze a binary string consisting of only zeros and ones. Your code should find the biggest number of consecutive zeros in the string. For example, given the string:\n",
    "\n",
    "\"1001101000110\"\n",
    "The biggest number of consecutive zeros is 3.\n",
    "\n",
    "Define a function named consecutive_zeros that takes a single parameter, which is the string of zeros and ones. Your function should return the number described above."
   ]
  },
  {
   "cell_type": "code",
   "execution_count": null,
   "metadata": {},
   "outputs": [],
   "source": [
    "def consecutive_zeros(str):\n",
    "    words = str.split(\"1\")\n",
    "\n",
    "    lengths = []\n",
    "    for item in words:\n",
    "        lengths.append(len(item))\n",
    "    \n",
    "    return (max(lengths))"
   ]
  },
  {
   "cell_type": "code",
   "execution_count": null,
   "metadata": {
    "collapsed": true
   },
   "outputs": [],
   "source": [
    "# naive solution\n",
    "def consecutive_zeros(bin_str):\n",
    "    result = 0\n",
    "    streak = 0\n",
    "    for letter in bin_str:\n",
    "        if letter == \"0\":\n",
    "            streak += 1\n",
    "        else:\n",
    "            streak = 0\n",
    "        result = max(result, streak)\n",
    "    return result\n",
    "\n",
    "# shorter solution\n",
    "def consecutive_zeros(bin_str):\n",
    "    return max([len(s) for s in bin_str.split(\"1\")])"
   ]
  },
  {
   "cell_type": "markdown",
   "metadata": {},
   "source": [
    "#### All equal"
   ]
  },
  {
   "cell_type": "markdown",
   "metadata": {},
   "source": [
    "Define a function named all_equal that takes a list and checks whether all elements in the list are the same.\n",
    "\n",
    "For example, calling all_equal([1, 1, 1]) should return True."
   ]
  },
  {
   "cell_type": "code",
   "execution_count": null,
   "metadata": {},
   "outputs": [],
   "source": [
    "def all_equal(list):\n",
    "    if len(list) > 0:\n",
    "        return (list.count(list[0]) == len(list))\n",
    "    else:\n",
    "        return (True)"
   ]
  },
  {
   "cell_type": "code",
   "execution_count": null,
   "metadata": {
    "collapsed": true
   },
   "outputs": [],
   "source": [
    "# one-liner with nested list comprehension\n",
    "# and the all() built-in\n",
    "def all_equal(items):\n",
    "    return all(item1 == item2 for item1 in items for item2 in items)"
   ]
  },
  {
   "cell_type": "markdown",
   "metadata": {},
   "source": [
    "#### Boolean and"
   ]
  },
  {
   "cell_type": "markdown",
   "metadata": {},
   "source": [
    "Define a function named triple_and that takes three parameters and returns True only if they are all True and False otherwise."
   ]
  },
  {
   "cell_type": "code",
   "execution_count": null,
   "metadata": {
    "collapsed": true
   },
   "outputs": [],
   "source": [
    "def triple_and(a, b, c):\n",
    "    return a and b and c"
   ]
  },
  {
   "cell_type": "code",
   "execution_count": null,
   "metadata": {
    "collapsed": true
   },
   "outputs": [],
   "source": [
    "def triple_and(a,b,c):\n",
    "    if a == True and b == True and c == True:\n",
    "        return (True)\n",
    "    elif a == False and b == False and c == False:\n",
    "        return (False)\n",
    "    else:\n",
    "        return (False)"
   ]
  },
  {
   "cell_type": "markdown",
   "metadata": {},
   "source": [
    "#### Writing short code"
   ]
  },
  {
   "cell_type": "markdown",
   "metadata": {},
   "source": [
    "Define a function named convert that takes a list of numbers as its only parameter and returns a list of each number converted to a string.\n",
    "\n",
    "For example, the call convert([1, 2, 3]) should return [\"1\", \"2\", \"3\"].\n",
    "\n",
    "What makes this tricky is that your function body must only contain a single line of code."
   ]
  },
  {
   "cell_type": "code",
   "execution_count": null,
   "metadata": {
    "collapsed": true
   },
   "outputs": [],
   "source": [
    "def convert(list):\n",
    "    return ([str(item) for item in list])"
   ]
  },
  {
   "cell_type": "code",
   "execution_count": null,
   "metadata": {
    "collapsed": true
   },
   "outputs": [],
   "source": [
    "# using a list comprehension\n",
    "def convert(ns):\n",
    "    return [str(n) for n in ns]\n",
    "\n",
    "# using map\n",
    "def convert(ns):\n",
    "    return list(map(str, ns))"
   ]
  },
  {
   "cell_type": "markdown",
   "metadata": {},
   "source": [
    "#### Custom zip"
   ]
  },
  {
   "cell_type": "markdown",
   "metadata": {},
   "source": [
    "The built-in zip function \"zips\" two lists. Write your own implementation of this function.\n",
    "\n",
    "Define a function named zap. The function takes two parameters, a and b. These are lists.\n",
    "\n",
    "Your function should return a list of tuples. Each tuple should contain one item from the a list and one from b.\n",
    "\n",
    "You may assume a and b have equal lengths.\n",
    "\n",
    "If you don't get it, think of a zipper.\n",
    "\n",
    "For example:\n",
    "\n",
    "zap(\n",
    "    [0, 1, 2, 3],\n",
    "    [5, 6, 7, 8]\n",
    ")\n",
    "Should return:\n",
    "\n",
    "[(0, 5),\n",
    " (1, 6),\n",
    " (2, 7),\n",
    " (3, 8)]"
   ]
  },
  {
   "cell_type": "code",
   "execution_count": null,
   "metadata": {
    "collapsed": true
   },
   "outputs": [],
   "source": [
    "def zap(a,b):\n",
    "    list = []\n",
    "    for i in range(len(a)):\n",
    "        item = (a[i], b[i])\n",
    "        list.append(item)\n",
    "        \n",
    "    return (list)"
   ]
  },
  {
   "cell_type": "code",
   "execution_count": null,
   "metadata": {
    "collapsed": true
   },
   "outputs": [],
   "source": [
    "# ugly but understandable solution\n",
    "def zap(a, b):\n",
    "    result = []\n",
    "    for i in range(len(a)):\n",
    "        item_from_a = a[i]\n",
    "        item_from_b = b[i]\n",
    "        tup = (item_from_a, item_from_b)\n",
    "        result.append(tup)\n",
    "    return result\n",
    "\n",
    "# concise solution with list comprehensions\n",
    "def zap(a, b):\n",
    "    return [(a[i], b[i]) for i in range(len(a))]"
   ]
  },
  {
   "cell_type": "markdown",
   "metadata": {},
   "source": [
    "#### Solution validation"
   ]
  },
  {
   "cell_type": "markdown",
   "metadata": {},
   "source": [
    "Challenge\n",
    "Solution validation\n",
    "The aim of this challenge is to write code that can analyze code submissions. We'll simplify things a lot to not make this too hard.\n",
    "\n",
    "Write a function named validate that takes code represented as a string as its only parameter.\n",
    "\n",
    "Your function should check a few things:\n",
    "\n",
    "the code must contain the def keyword\n",
    "otherwise return \"missing def\"\n",
    "the code must contain the : symbol\n",
    "otherwise return \"missing :\"\n",
    "the code must contain ( and ) for the parameter list\n",
    "otherwise return \"missing paren\"\n",
    "the code must not contain ()\n",
    "otherwise return \"missing param\"\n",
    "the code must contain four spaces for indentation\n",
    "otherwise return \"missing indent\"\n",
    "the code must contain validate\n",
    "otherwise return \"wrong name\"\n",
    "the code must contain a return statement\n",
    "otherwise return \"missing return\"\n",
    "If all these conditions are satisfied, your code should return True.\n",
    "\n",
    "Here comes the twist: your solution must return True when validating itself."
   ]
  },
  {
   "cell_type": "code",
   "execution_count": null,
   "metadata": {
    "collapsed": true
   },
   "outputs": [],
   "source": [
    "def validate(str):\n",
    "    if \"def\" not in str:\n",
    "        return(\"missing def\")\n",
    "    elif \":\" not in str:\n",
    "        return(\"missing :\")\n",
    "    elif \"(\" not in str and \")\" not in str:\n",
    "        return(\"missing paren\")\n",
    "    elif \"():\" in str:\n",
    "        return(\"missing param\")\n",
    "    elif \"    \" not in str:\n",
    "        return(\"missing indent\")\n",
    "    elif \"validate\" not in str:\n",
    "        return(\"wrong name\")\n",
    "    elif \"return\" not in str:\n",
    "        return(\"missing return\")\n",
    "    else:\n",
    "        return (True)"
   ]
  },
  {
   "cell_type": "markdown",
   "metadata": {},
   "source": [
    "#### List xor"
   ]
  },
  {
   "cell_type": "markdown",
   "metadata": {},
   "source": [
    "Define a function named list_xor. Your function should take three parameters: n, list1 and list2.\n",
    "\n",
    "Your function must return whether n is exclusively in list1 or list2.\n",
    "\n",
    "In other words, if n is in both lists or in none of the lists, return False. If n is in only one of the lists, return True.\n",
    "\n",
    "For example:\n",
    "\n",
    "list_xor(1, [1, 2, 3], [4, 5, 6]) == True\n",
    "list_xor(1, [0, 2, 3], [1, 5, 6]) == True\n",
    "list_xor(1, [1, 2, 3], [1, 5, 6]) == False\n",
    "list_xor(1, [0, 0, 0], [4, 5, 6]) == False"
   ]
  },
  {
   "cell_type": "code",
   "execution_count": null,
   "metadata": {
    "collapsed": true
   },
   "outputs": [],
   "source": [
    "# smart solution: uses the built-in xor operator ^\n",
    "def list_xor(n, list1, list2):\n",
    "    return (n in list1) ^ (n in list2)\n",
    "\n",
    "# naive solution: check each case at a time\n",
    "def list_xor(n, list1, list2):\n",
    "    if n not in list1 and n not in list2:\n",
    "        return False\n",
    "    if n in list1 and n in list2:\n",
    "        return False\n",
    "    return True"
   ]
  },
  {
   "cell_type": "markdown",
   "metadata": {},
   "source": [
    "#### Counting parameters"
   ]
  },
  {
   "cell_type": "markdown",
   "metadata": {},
   "source": [
    "Define a function param_count that takes a variable number of parameters. The function should return the number of arguments it was called with.\n",
    "\n",
    "For example, param_count() should return 0, while param_count(2, 3, 4) should return 3."
   ]
  },
  {
   "cell_type": "code",
   "execution_count": null,
   "metadata": {
    "collapsed": true
   },
   "outputs": [],
   "source": [
    "def param_count(*args):\n",
    "    return len(args)"
   ]
  },
  {
   "cell_type": "code",
   "execution_count": null,
   "metadata": {
    "collapsed": true
   },
   "outputs": [],
   "source": [
    "def param_count(*args):\n",
    "    count = 0\n",
    "    for param in args:\n",
    "        count += 1\n",
    "        \n",
    "    return (count)"
   ]
  },
  {
   "cell_type": "markdown",
   "metadata": {},
   "source": [
    "#### Thousands separator"
   ]
  },
  {
   "cell_type": "markdown",
   "metadata": {},
   "source": [
    "Write a function named format_number that takes a non-negative number as its only parameter.\n",
    "\n",
    "Your function should convert the number to a string and add commas as a thousands separator.\n",
    "\n",
    "For example, calling format_number(1000000) should return \"1,000,000\"."
   ]
  },
  {
   "cell_type": "code",
   "execution_count": null,
   "metadata": {},
   "outputs": [],
   "source": [
    "def format_number(number):\n",
    "    string = \"\"\n",
    "    number = str(number)[::-1]\n",
    "    \n",
    "    for i in range(len(number)):\n",
    "        if i % 3 == 0 and i != 0:\n",
    "            string += \",\" + number[i]\n",
    "        else:\n",
    "            string += number[i]\n",
    "            \n",
    "    return (string[::-1])"
   ]
  },
  {
   "cell_type": "code",
   "execution_count": null,
   "metadata": {
    "collapsed": true
   },
   "outputs": [],
   "source": [
    "# DIY solution\n",
    "def format_number(n):\n",
    "    result = \"\"\n",
    "    for i, digit in enumerate(reversed(str(n))):\n",
    "        if i != 0 and (i % 3) == 0:\n",
    "            result += \",\"\n",
    "        result += digit\n",
    "    return result[::-1]\n",
    "\n",
    "# built-in solution\n",
    "def format_number(n):\n",
    "    return \"{:,}\".format(n)"
   ]
  }
 ],
 "metadata": {
  "kernelspec": {
   "display_name": "Python 3",
   "language": "python",
   "name": "python3"
  },
  "language_info": {
   "codemirror_mode": {
    "name": "ipython",
    "version": 3
   },
   "file_extension": ".py",
   "mimetype": "text/x-python",
   "name": "python",
   "nbconvert_exporter": "python",
   "pygments_lexer": "ipython3",
   "version": "3.6.1"
  }
 },
 "nbformat": 4,
 "nbformat_minor": 2
}
